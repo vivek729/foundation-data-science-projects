{
 "cells": [
  {
   "cell_type": "markdown",
   "metadata": {},
   "source": [
    "# Building Fast Queries on a CSV"
   ]
  },
  {
   "cell_type": "markdown",
   "metadata": {},
   "source": [
    "We will imagine that we own an online laptop store and want to build a way to answer a few different business questions about our inventory.\n",
    "\n",
    "We will use the `laptops.csv` file as our inventory. This CSV file was adapted from the Laptop Prices dataset on [Kaggle](https://www.kaggle.com/ionaskel/laptop-prices)."
   ]
  },
  {
   "cell_type": "markdown",
   "metadata": {},
   "source": [
    "## The dataset"
   ]
  },
  {
   "cell_type": "code",
   "execution_count": 11,
   "metadata": {},
   "outputs": [],
   "source": [
    "import csv\n",
    "with open(\"laptops.csv\", \"r\") as ifile:\n",
    "    reader = csv.reader(ifile)\n",
    "    laptops = list(reader)\n",
    "    header, rows = laptops[0], laptops[1:]"
   ]
  },
  {
   "cell_type": "code",
   "execution_count": 12,
   "metadata": {},
   "outputs": [
    {
     "name": "stdout",
     "output_type": "stream",
     "text": [
      "['Id', 'Company', 'Product', 'TypeName', 'Inches', 'ScreenResolution', 'Cpu', 'Ram', 'Memory', 'Gpu', 'OpSys', 'Weight', 'Price']\n"
     ]
    }
   ],
   "source": [
    "print(header)"
   ]
  },
  {
   "cell_type": "code",
   "execution_count": 13,
   "metadata": {},
   "outputs": [
    {
     "name": "stdout",
     "output_type": "stream",
     "text": [
      "['6571244', 'Apple', 'MacBook Pro', 'Ultrabook', '13.3', 'IPS Panel Retina Display 2560x1600', 'Intel Core i5 2.3GHz', '8GB', '128GB SSD', 'Intel Iris Plus Graphics 640', 'macOS', '1.37kg', '1339']\n",
      "['7287764', 'Apple', 'Macbook Air', 'Ultrabook', '13.3', '1440x900', 'Intel Core i5 1.8GHz', '8GB', '128GB Flash Storage', 'Intel HD Graphics 6000', 'macOS', '1.34kg', '898']\n",
      "['3362737', 'HP', '250 G6', 'Notebook', '15.6', 'Full HD 1920x1080', 'Intel Core i5 7200U 2.5GHz', '8GB', '256GB SSD', 'Intel HD Graphics 620', 'No OS', '1.86kg', '575']\n",
      "['9722156', 'Apple', 'MacBook Pro', 'Ultrabook', '15.4', 'IPS Panel Retina Display 2880x1800', 'Intel Core i7 2.7GHz', '16GB', '512GB SSD', 'AMD Radeon Pro 455', 'macOS', '1.83kg', '2537']\n",
      "['8550527', 'Apple', 'MacBook Pro', 'Ultrabook', '13.3', 'IPS Panel Retina Display 2560x1600', 'Intel Core i5 3.1GHz', '8GB', '256GB SSD', 'Intel Iris Plus Graphics 650', 'macOS', '1.37kg', '1803']\n"
     ]
    }
   ],
   "source": [
    "print(*rows[:5], sep=\"\\n\")"
   ]
  },
  {
   "cell_type": "markdown",
   "metadata": {},
   "source": [
    "## Inventory Class"
   ]
  },
  {
   "cell_type": "code",
   "execution_count": 14,
   "metadata": {},
   "outputs": [],
   "source": [
    "class Inventory:\n",
    "    def __init__(self, csv_file):\n",
    "        with open(csv_file) as ifile:\n",
    "            reader = csv.reader(ifile)\n",
    "            rows = list(reader)\n",
    "        self.header = rows[0]\n",
    "        self.rows = rows[1:]"
   ]
  },
  {
   "cell_type": "code",
   "execution_count": 15,
   "metadata": {},
   "outputs": [
    {
     "name": "stdout",
     "output_type": "stream",
     "text": [
      "['Id', 'Company', 'Product', 'TypeName', 'Inches', 'ScreenResolution', 'Cpu', 'Ram', 'Memory', 'Gpu', 'OpSys', 'Weight', 'Price']\n",
      "1303\n"
     ]
    }
   ],
   "source": [
    "inventory = Inventory(\"laptops.csv\")\n",
    "print(inventory.header)\n",
    "print(len(inventory.rows))"
   ]
  },
  {
   "cell_type": "markdown",
   "metadata": {},
   "source": [
    "## Finding a Laptop from the Id"
   ]
  },
  {
   "cell_type": "code",
   "execution_count": 16,
   "metadata": {},
   "outputs": [],
   "source": [
    "class Inventory:\n",
    "    def __init__(self, csv_file):\n",
    "        with open(csv_file) as ifile:\n",
    "            reader = csv.reader(ifile)\n",
    "            rows = list(reader)\n",
    "        self.header = rows[0]\n",
    "        self.rows = rows[1:]\n",
    "        for row in self.rows:\n",
    "            # Convert prices to int for every row\n",
    "            row[-1] = int(row[-1])\n",
    "        \n",
    "    def get_laptop_from_id(self, laptop_id):\n",
    "        for row in self.rows:\n",
    "            if row[0] == laptop_id:\n",
    "                return row\n",
    "        return None\n",
    "                "
   ]
  },
  {
   "cell_type": "code",
   "execution_count": 18,
   "metadata": {},
   "outputs": [
    {
     "name": "stdout",
     "output_type": "stream",
     "text": [
      "['3362737', 'HP', '250 G6', 'Notebook', '15.6', 'Full HD 1920x1080', 'Intel Core i5 7200U 2.5GHz', '8GB', '256GB SSD', 'Intel HD Graphics 620', 'No OS', '1.86kg', 575]\n",
      "None\n"
     ]
    }
   ],
   "source": [
    "inventory = Inventory(\"laptops.csv\")\n",
    "id1 = inventory.get_laptop_from_id(\"3362737\")\n",
    "id2 = inventory.get_laptop_from_id(\"3362736\")\n",
    "print(id1)\n",
    "print(id2)"
   ]
  },
  {
   "cell_type": "markdown",
   "metadata": {},
   "source": [
    "## Improving Id Lookups"
   ]
  },
  {
   "cell_type": "code",
   "execution_count": 19,
   "metadata": {},
   "outputs": [],
   "source": [
    "class Inventory:\n",
    "    def __init__(self, csv_file):\n",
    "        with open(csv_file) as ifile:\n",
    "            reader = csv.reader(ifile)\n",
    "            rows = list(reader)\n",
    "        self.header = rows[0]\n",
    "        self.rows = rows[1:]\n",
    "        \n",
    "        for row in self.rows:\n",
    "            # Convert prices to int for every row\n",
    "            row[-1] = int(row[-1])\n",
    "            \n",
    "        self.id_to_row = {}\n",
    "        for row in self.rows:\n",
    "            self.id_to_row[row[0]] = row\n",
    "        \n",
    "    def get_laptop_from_id(self, laptop_id):\n",
    "        for row in self.rows:\n",
    "            if row[0] == laptop_id:\n",
    "                return row\n",
    "        return None\n",
    "    \n",
    "    def get_laptop_from_id_fast(self, laptop_id):\n",
    "        try:\n",
    "            row = self.id_to_row[laptop_id]\n",
    "        except KeyError:\n",
    "            return None\n",
    "        return row"
   ]
  },
  {
   "cell_type": "code",
   "execution_count": 21,
   "metadata": {},
   "outputs": [
    {
     "name": "stdout",
     "output_type": "stream",
     "text": [
      "['3362737', 'HP', '250 G6', 'Notebook', '15.6', 'Full HD 1920x1080', 'Intel Core i5 7200U 2.5GHz', '8GB', '256GB SSD', 'Intel HD Graphics 620', 'No OS', '1.86kg', 575]\n",
      "None\n"
     ]
    }
   ],
   "source": [
    "inventory = Inventory(\"laptops.csv\")\n",
    "id1 = inventory.get_laptop_from_id_fast(\"3362737\")\n",
    "id2 = inventory.get_laptop_from_id_fast(\"3362736\")\n",
    "print(id1)\n",
    "print(id2)"
   ]
  },
  {
   "cell_type": "markdown",
   "metadata": {},
   "source": [
    "## Comparing the Performance"
   ]
  },
  {
   "cell_type": "code",
   "execution_count": 23,
   "metadata": {},
   "outputs": [
    {
     "name": "stdout",
     "output_type": "stream",
     "text": [
      "0.7140219211578369\n",
      "0.00689387321472168\n"
     ]
    }
   ],
   "source": [
    "import time\n",
    "import random\n",
    "\n",
    "inventory = Inventory(\"laptops.csv\")\n",
    "total_time_no_dict = 0\n",
    "total_time_dict = 0\n",
    "\n",
    "ids = [str(random.randint(1000000, 9999999)) for _ in range(10000)]\n",
    "for id_ in ids:\n",
    "    start = time.time()\n",
    "    inventory.get_laptop_from_id(id_)\n",
    "    end = time.time()\n",
    "    total_time_no_dict += (end - start)\n",
    "\n",
    "for id_ in ids:\n",
    "    start = time.time()\n",
    "    inventory.get_laptop_from_id_fast(id_)\n",
    "    end = time.time()\n",
    "    total_time_dict += (end - start)\n",
    "    \n",
    "print(total_time_no_dict)\n",
    "print(total_time_dict)"
   ]
  },
  {
   "cell_type": "markdown",
   "metadata": {},
   "source": [
    "## Two Laptop Promotion"
   ]
  },
  {
   "cell_type": "code",
   "execution_count": 33,
   "metadata": {},
   "outputs": [],
   "source": [
    "class Inventory:\n",
    "    def __init__(self, csv_file):\n",
    "        with open(csv_file) as ifile:\n",
    "            reader = csv.reader(ifile)\n",
    "            rows = list(reader)\n",
    "        self.header = rows[0]\n",
    "        self.rows = rows[1:]\n",
    "        \n",
    "        for row in self.rows:\n",
    "            # Convert prices to int for every row\n",
    "            row[-1] = int(row[-1])\n",
    "            \n",
    "        self.id_to_row = {}\n",
    "        for row in self.rows:\n",
    "            self.id_to_row[row[0]] = row\n",
    "        \n",
    "    def get_laptop_from_id(self, laptop_id):\n",
    "        for row in self.rows:\n",
    "            if row[0] == laptop_id:\n",
    "                return row\n",
    "        return None\n",
    "    \n",
    "    def get_laptop_from_id_fast(self, laptop_id):\n",
    "        try:\n",
    "            row = self.id_to_row[laptop_id]\n",
    "        except KeyError:\n",
    "            return None\n",
    "        return row\n",
    "    \n",
    "    def check_promotion_dollars(self, dollars):\n",
    "        for row in self.rows:\n",
    "            if row == dollars:\n",
    "                return True\n",
    "        \n",
    "        for i in range(len(self.rows)):\n",
    "            for j in range(i, len(self.rows)):\n",
    "                if (self.rows[i][-1] + self.rows[j][-1] == dollars):\n",
    "                    return True\n",
    "        return False"
   ]
  },
  {
   "cell_type": "code",
   "execution_count": 32,
   "metadata": {},
   "outputs": [
    {
     "name": "stdout",
     "output_type": "stream",
     "text": [
      "True\n",
      "False\n"
     ]
    }
   ],
   "source": [
    "inventory = Inventory(\"laptops.csv\")\n",
    "c1 = inventory.check_promotion_dollars(1000)\n",
    "c2 = inventory.check_promotion_dollars(442)\n",
    "print(c1)\n",
    "print(c2)"
   ]
  },
  {
   "cell_type": "markdown",
   "metadata": {},
   "source": [
    "## Optimizing Laptop Promotion"
   ]
  },
  {
   "cell_type": "code",
   "execution_count": 38,
   "metadata": {},
   "outputs": [],
   "source": [
    "class Inventory:\n",
    "    def __init__(self, csv_file):\n",
    "        self.prices = set()\n",
    "        with open(csv_file) as ifile:\n",
    "            reader = csv.reader(ifile)\n",
    "            rows = list(reader)\n",
    "        self.header = rows[0]\n",
    "        self.rows = rows[1:]\n",
    "        \n",
    "        for row in self.rows:\n",
    "            # Convert prices to int for every row\n",
    "            row[-1] = int(row[-1])\n",
    "            self.prices.add(row[-1])\n",
    "            \n",
    "        self.id_to_row = {}\n",
    "        for row in self.rows:\n",
    "            self.id_to_row[row[0]] = row\n",
    "        \n",
    "    def get_laptop_from_id(self, laptop_id):\n",
    "        for row in self.rows:\n",
    "            if row[0] == laptop_id:\n",
    "                return row\n",
    "        return None\n",
    "    \n",
    "    def get_laptop_from_id_fast(self, laptop_id):\n",
    "        try:\n",
    "            row = self.id_to_row[laptop_id]\n",
    "        except KeyError:\n",
    "            return None\n",
    "        return row\n",
    "    \n",
    "    def check_promotion_dollars(self, dollars):\n",
    "        for row in self.rows:\n",
    "            if row == dollars:\n",
    "                return True\n",
    "        \n",
    "        for i in range(len(self.rows)):\n",
    "            for j in range(i, len(self.rows)):\n",
    "                if (self.rows[i][-1] + self.rows[j][-1] == dollars):\n",
    "                    return True\n",
    "        return False\n",
    "    \n",
    "    def check_promotion_dollars_fast(self, dollars):\n",
    "        if dollars in self.prices:\n",
    "            return True\n",
    "        for price in self.prices:\n",
    "            if dollars - price in self.prices:\n",
    "                return True\n",
    "        return False"
   ]
  },
  {
   "cell_type": "code",
   "execution_count": 39,
   "metadata": {},
   "outputs": [
    {
     "name": "stdout",
     "output_type": "stream",
     "text": [
      "True\n",
      "False\n"
     ]
    }
   ],
   "source": [
    "inventory = Inventory(\"laptops.csv\")\n",
    "c1 = inventory.check_promotion_dollars_fast(1000)\n",
    "c2 = inventory.check_promotion_dollars_fast(442)\n",
    "print(c1)\n",
    "print(c2)"
   ]
  },
  {
   "cell_type": "markdown",
   "metadata": {},
   "source": [
    "## Comparing Promotion Functions"
   ]
  },
  {
   "cell_type": "code",
   "execution_count": 44,
   "metadata": {},
   "outputs": [
    {
     "name": "stdout",
     "output_type": "stream",
     "text": [
      "1.3113911151885986\n",
      "0.0005054473876953125\n",
      "factor =  2594.515566037736\n"
     ]
    }
   ],
   "source": [
    "prices = [random.randint(100, 5000) for _ in range(100)]\n",
    "total_time_no_set = 0\n",
    "total_time_set = 0\n",
    "inventory = Inventory(\"laptops.csv\")\n",
    "\n",
    "for price in prices:\n",
    "    start = time.time()\n",
    "    inventory.check_promotion_dollars(price)\n",
    "    end = time.time()\n",
    "    total_time_no_set += (end - start)\n",
    "    \n",
    "for price in prices:\n",
    "    start = time.time()\n",
    "    inventory.check_promotion_dollars_fast(price)\n",
    "    end = time.time()\n",
    "    total_time_set += (end - start)\n",
    "    \n",
    "print(total_time_no_set)\n",
    "print(total_time_set)\n",
    "print(\"factor = \", total_time_no_set / total_time_set)"
   ]
  },
  {
   "cell_type": "markdown",
   "metadata": {},
   "source": [
    "## Finding Laptops within a Budget"
   ]
  },
  {
   "cell_type": "code",
   "execution_count": 75,
   "metadata": {},
   "outputs": [],
   "source": [
    "class Inventory:\n",
    "    def __init__(self, csv_file):\n",
    "        self.prices = set()\n",
    "        with open(csv_file) as ifile:\n",
    "            reader = csv.reader(ifile)\n",
    "            rows = list(reader)\n",
    "        self.header = rows[0]\n",
    "        self.rows = rows[1:]\n",
    "        \n",
    "        for row in self.rows:\n",
    "            # Convert prices to int for every row\n",
    "            row[-1] = int(row[-1])\n",
    "            self.prices.add(row[-1])\n",
    "            \n",
    "        self.id_to_row = {}\n",
    "        for row in self.rows:\n",
    "            self.id_to_row[row[0]] = row\n",
    "        \n",
    "    def get_laptop_from_id(self, laptop_id):\n",
    "        for row in self.rows:\n",
    "            if row[0] == laptop_id:\n",
    "                return row\n",
    "        return None\n",
    "    \n",
    "    def get_laptop_from_id_fast(self, laptop_id):\n",
    "        try:\n",
    "            row = self.id_to_row[laptop_id]\n",
    "        except KeyError:\n",
    "            return None\n",
    "        return row\n",
    "    \n",
    "    def check_promotion_dollars(self, dollars):\n",
    "        for row in self.rows:\n",
    "            if row == dollars:\n",
    "                return True\n",
    "        \n",
    "        for i in range(len(self.rows)):\n",
    "            for j in range(i, len(self.rows)):\n",
    "                if (self.rows[i][-1] + self.rows[j][-1] == dollars):\n",
    "                    return True\n",
    "        return False\n",
    "    \n",
    "    def check_promotion_dollars_fast(self, dollars):\n",
    "        if dollars in self.prices:\n",
    "            return True\n",
    "        for price in self.prices:\n",
    "            if dollars - price in self.prices:\n",
    "                return True\n",
    "        return False\n",
    "    \n",
    "    # Returns max index of laptop record in the sorted laptops list such that\n",
    "    # records till that index falls within budget\n",
    "    def find_index_budget(self, budget):\n",
    "        sorted_rows = sorted(self.rows, key=lambda row: row[-1])\n",
    "        if (sorted_rows[-1][-1] <= budget):\n",
    "            return len(sorted_rows) - 1\n",
    "        lb = 0\n",
    "        ub = len(sorted_rows) - 1\n",
    "        while lb <= ub:\n",
    "            mid = (lb + ub) // 2\n",
    "            mid_val = sorted_rows[mid][-1]\n",
    "            mid_prev_val = sorted_rows[mid - 1][-1]\n",
    "            if (mid_val >= budget and mid - 1 >= 0 and mid_prev_val < budget):\n",
    "                return mid\n",
    "            elif (sorted_rows[mid][-1] < budget):\n",
    "                lb = mid + 1\n",
    "            else:\n",
    "                ub = mid -1\n",
    "        return -1"
   ]
  },
  {
   "cell_type": "code",
   "execution_count": 76,
   "metadata": {},
   "outputs": [
    {
     "name": "stdout",
     "output_type": "stream",
     "text": [
      "682\n",
      "1302\n"
     ]
    }
   ],
   "source": [
    "inventory = Inventory(\"laptops.csv\")\n",
    "i1 = inventory.find_index_budget(1000)\n",
    "i2 = inventory.find_index_budget(10000)\n",
    "print(i1)\n",
    "print(i2)"
   ]
  }
 ],
 "metadata": {
  "kernelspec": {
   "display_name": "Python 3",
   "language": "python",
   "name": "python3"
  },
  "language_info": {
   "codemirror_mode": {
    "name": "ipython",
    "version": 3
   },
   "file_extension": ".py",
   "mimetype": "text/x-python",
   "name": "python",
   "nbconvert_exporter": "python",
   "pygments_lexer": "ipython3",
   "version": "3.8.2"
  }
 },
 "nbformat": 4,
 "nbformat_minor": 2
}
