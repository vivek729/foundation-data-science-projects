{
 "cells": [
  {
   "cell_type": "markdown",
   "metadata": {
    "collapsed": true
   },
   "source": [
    "# Exploring Hacker News Posts"
   ]
  },
  {
   "cell_type": "markdown",
   "metadata": {},
   "source": [
    "Hacker News is a site started by the startup incubator Y Combinator, where user-submitted stories (known as \"posts\") are voted and commented upon, similar to reddit. Hacker News is extremely popular in technology and startup circles, and posts that make it to the top of Hacker News' listings can get hundreds of thousands of visitors as a result."
   ]
  },
  {
   "cell_type": "markdown",
   "metadata": {
    "collapsed": true
   },
   "source": [
    "The dataset used is taken from hacker_news.csv.\n",
    "Below are the descriptioins of the columns:"
   ]
  },
  {
   "cell_type": "markdown",
   "metadata": {},
   "source": [
    "* id: The unique identifier from Hacker News for the post\n",
    "* title: The title of the post\n",
    "* url: The URL that the posts links to, if it the post has a URL\n",
    "* num_points: The number of points the post acquired, calculated as the total number of upvotes minus the total number of downvotes\n",
    "* num_comments: The number of comments that were made on the post\n",
    "* author: The username of the person who submitted the post\n",
    "* created_at: The date and time at which the post was submitted"
   ]
  },
  {
   "cell_type": "code",
   "execution_count": 3,
   "metadata": {},
   "outputs": [],
   "source": [
    "from csv import reader\n",
    "import datetime as dt"
   ]
  },
  {
   "cell_type": "code",
   "execution_count": 4,
   "metadata": {},
   "outputs": [],
   "source": [
    "open_file = open(\"datasets/hacker_news.csv\")\n",
    "read_file = reader(open_file)"
   ]
  },
  {
   "cell_type": "code",
   "execution_count": 5,
   "metadata": {},
   "outputs": [],
   "source": [
    "hn = list(read_file)"
   ]
  },
  {
   "cell_type": "code",
   "execution_count": 6,
   "metadata": {},
   "outputs": [
    {
     "name": "stdout",
     "output_type": "stream",
     "text": [
      "['id', 'title', 'url', 'num_points', 'num_comments', 'author', 'created_at']\n",
      "['12224879', 'Interactive Dynamic Video', 'http://www.interactivedynamicvideo.com/', '386', '52', 'ne0phyte', '8/4/2016 11:52']\n",
      "['10975351', 'How to Use Open Source and Shut the Fuck Up at the Same Time', 'http://hueniverse.com/2016/01/26/how-to-use-open-source-and-shut-the-fuck-up-at-the-same-time/', '39', '10', 'josep2', '1/26/2016 19:30']\n",
      "['11964716', \"Florida DJs May Face Felony for April Fools' Water Joke\", 'http://www.thewire.com/entertainment/2013/04/florida-djs-april-fools-water-joke/63798/', '2', '1', 'vezycash', '6/23/2016 22:20']\n",
      "['11919867', 'Technology ventures: From Idea to Enterprise', 'https://www.amazon.com/Technology-Ventures-Enterprise-Thomas-Byers/dp/0073523429', '3', '1', 'hswarna', '6/17/2016 0:01']\n",
      "['10301696', 'Note by Note: The Making of Steinway L1037 (2007)', 'http://www.nytimes.com/2007/11/07/movies/07stein.html?_r=0', '8', '2', 'walterbell', '9/30/2015 4:12']\n"
     ]
    }
   ],
   "source": [
    "print(*hn[:6], sep='\\n')"
   ]
  },
  {
   "cell_type": "code",
   "execution_count": 7,
   "metadata": {},
   "outputs": [],
   "source": [
    "headers = hn[0]\n",
    "hn = hn[1:]"
   ]
  },
  {
   "cell_type": "code",
   "execution_count": 8,
   "metadata": {},
   "outputs": [
    {
     "name": "stdout",
     "output_type": "stream",
     "text": [
      "['id', 'title', 'url', 'num_points', 'num_comments', 'author', 'created_at']\n"
     ]
    }
   ],
   "source": [
    "print(headers)"
   ]
  },
  {
   "cell_type": "code",
   "execution_count": 9,
   "metadata": {},
   "outputs": [
    {
     "name": "stdout",
     "output_type": "stream",
     "text": [
      "['12224879', 'Interactive Dynamic Video', 'http://www.interactivedynamicvideo.com/', '386', '52', 'ne0phyte', '8/4/2016 11:52']\n",
      "['10975351', 'How to Use Open Source and Shut the Fuck Up at the Same Time', 'http://hueniverse.com/2016/01/26/how-to-use-open-source-and-shut-the-fuck-up-at-the-same-time/', '39', '10', 'josep2', '1/26/2016 19:30']\n",
      "['11964716', \"Florida DJs May Face Felony for April Fools' Water Joke\", 'http://www.thewire.com/entertainment/2013/04/florida-djs-april-fools-water-joke/63798/', '2', '1', 'vezycash', '6/23/2016 22:20']\n",
      "['11919867', 'Technology ventures: From Idea to Enterprise', 'https://www.amazon.com/Technology-Ventures-Enterprise-Thomas-Byers/dp/0073523429', '3', '1', 'hswarna', '6/17/2016 0:01']\n",
      "['10301696', 'Note by Note: The Making of Steinway L1037 (2007)', 'http://www.nytimes.com/2007/11/07/movies/07stein.html?_r=0', '8', '2', 'walterbell', '9/30/2015 4:12']\n"
     ]
    }
   ],
   "source": [
    "print(*hn[:5], sep='\\n')"
   ]
  },
  {
   "cell_type": "markdown",
   "metadata": {},
   "source": [
    "### Extracting \"Ask HN\" and \"Show HN\" posts"
   ]
  },
  {
   "cell_type": "code",
   "execution_count": 10,
   "metadata": {},
   "outputs": [],
   "source": [
    "ask_posts = []\n",
    "show_posts = []\n",
    "other_posts = []"
   ]
  },
  {
   "cell_type": "code",
   "execution_count": 11,
   "metadata": {},
   "outputs": [],
   "source": [
    "for row in hn:\n",
    "    title = row[1]\n",
    "    if title.lower().startswith('ask hn'):\n",
    "        ask_posts.append(row)\n",
    "    elif title.lower().startswith('show hn'):\n",
    "        show_posts.append(row)\n",
    "    else:\n",
    "        other_posts.append(row)"
   ]
  },
  {
   "cell_type": "code",
   "execution_count": 12,
   "metadata": {},
   "outputs": [
    {
     "name": "stdout",
     "output_type": "stream",
     "text": [
      "No. of ask_posts: 1744\n",
      "No. of show posts: 1162\n",
      "No. of other_posts: 17194\n"
     ]
    }
   ],
   "source": [
    "print(\"No. of ask_posts:\", len(ask_posts))\n",
    "print(\"No. of show posts:\", len(show_posts))\n",
    "print(\"No. of other_posts:\", len(other_posts))"
   ]
  },
  {
   "cell_type": "markdown",
   "metadata": {},
   "source": [
    "### Calculating the average no. of comments for \"Ask HN\" and \"Show HN\" Posts "
   ]
  },
  {
   "cell_type": "code",
   "execution_count": 13,
   "metadata": {},
   "outputs": [],
   "source": [
    "total_ask_comments = sum([int(row[4]) for row in ask_posts])"
   ]
  },
  {
   "cell_type": "code",
   "execution_count": 14,
   "metadata": {},
   "outputs": [],
   "source": [
    "avg_ask_comments = total_ask_comments / len(ask_posts)"
   ]
  },
  {
   "cell_type": "code",
   "execution_count": 15,
   "metadata": {},
   "outputs": [],
   "source": [
    "total_show_comments = sum([int(row[4]) for row in show_posts])\n",
    "avg_show_comments = total_show_comments / len(ask_posts)                           "
   ]
  },
  {
   "cell_type": "code",
   "execution_count": 16,
   "metadata": {},
   "outputs": [
    {
     "name": "stdout",
     "output_type": "stream",
     "text": [
      "Average no. of comments on 'Ask HN' posts: 14.0384\n",
      "Average no. of comments on 'Show HN' posts: 6.8739\n"
     ]
    }
   ],
   "source": [
    "print(\"Average no. of comments on 'Ask HN' posts: %.4f\" % avg_ask_comments)\n",
    "print(\"Average no. of comments on 'Show HN' posts: %.4f\" % avg_show_comments)"
   ]
  },
  {
   "cell_type": "markdown",
   "metadata": {},
   "source": [
    "Thus, we observe that \"Ask HN\" posts receive more no. of comments than \"Show HN\" posts on average."
   ]
  },
  {
   "cell_type": "markdown",
   "metadata": {
    "collapsed": true
   },
   "source": [
    "### Finding the amount of \"Ask\" posts and comments by the hour created"
   ]
  },
  {
   "cell_type": "code",
   "execution_count": 17,
   "metadata": {},
   "outputs": [],
   "source": [
    "result_list = []\n",
    "for row in ask_posts:\n",
    "    created_at = row[6]\n",
    "    num_comments = int(row[4])\n",
    "    result_list.append([created_at, num_comments])"
   ]
  },
  {
   "cell_type": "code",
   "execution_count": 18,
   "metadata": {},
   "outputs": [],
   "source": [
    "counts_by_hour = {}\n",
    "comments_by_hour = {}"
   ]
  },
  {
   "cell_type": "code",
   "execution_count": 19,
   "metadata": {},
   "outputs": [
    {
     "name": "stdout",
     "output_type": "stream",
     "text": [
      "8/16/2016 9:55\n",
      "11/22/2015 13:43\n",
      "5/2/2016 10:14\n",
      "8/2/2016 14:20\n",
      "10/15/2015 16:38\n",
      "9/26/2015 23:23\n",
      "4/22/2016 12:24\n",
      "11/16/2015 9:22\n",
      "2/24/2016 17:57\n",
      "6/4/2016 17:17\n",
      "9/19/2015 17:04\n",
      "9/22/2015 13:16\n",
      "6/21/2016 15:45\n",
      "1/13/2016 21:17\n",
      "10/4/2015 21:27\n",
      "1/25/2016 20:27\n",
      "10/27/2015 2:47\n",
      "1/19/2016 12:01\n",
      "3/22/2016 2:05\n",
      "9/8/2015 14:04\n",
      "8/28/2016 18:06\n",
      "7/20/2016 13:44\n",
      "9/12/2016 16:52\n",
      "2/29/2016 17:52\n",
      "4/18/2016 15:28\n",
      "12/28/2015 14:38\n",
      "4/4/2016 3:34\n",
      "1/15/2016 21:47\n",
      "11/19/2015 5:33\n",
      "12/20/2015 3:59\n",
      "10/15/2015 21:34\n",
      "2/26/2016 19:20\n",
      "8/2/2016 18:00\n",
      "2/28/2016 1:24\n",
      "1/13/2016 9:12\n",
      "5/6/2016 1:14\n",
      "6/23/2016 13:59\n",
      "4/30/2016 17:21\n",
      "10/20/2015 19:21\n",
      "10/25/2015 15:09\n",
      "5/4/2016 14:14\n",
      "12/23/2015 20:48\n",
      "6/1/2016 16:19\n",
      "7/10/2016 22:19\n",
      "6/21/2016 23:40\n",
      "4/24/2016 19:36\n",
      "5/20/2016 1:26\n",
      "6/24/2016 17:02\n",
      "7/12/2016 19:34\n",
      "10/16/2015 16:36\n"
     ]
    }
   ],
   "source": [
    "print(*[row[0] for row in result_list[:50]], sep='\\n')"
   ]
  },
  {
   "cell_type": "code",
   "execution_count": 20,
   "metadata": {},
   "outputs": [],
   "source": [
    "for row in result_list:\n",
    "    dateobj = dt.datetime.strptime(row[0], \"%m/%d/%Y %H:%M\")\n",
    "    hour = dateobj.strftime(\"%H\")\n",
    "    if hour in counts_by_hour:\n",
    "        counts_by_hour[hour] += 1\n",
    "        comments_by_hour[hour] += row[1]\n",
    "    else:\n",
    "        counts_by_hour[hour] = 1\n",
    "        comments_by_hour[hour] = row[1]"
   ]
  },
  {
   "cell_type": "code",
   "execution_count": 21,
   "metadata": {},
   "outputs": [
    {
     "name": "stdout",
     "output_type": "stream",
     "text": [
      "09 45\n",
      "13 85\n",
      "10 59\n",
      "14 107\n",
      "16 108\n",
      "23 68\n",
      "12 73\n",
      "17 100\n",
      "15 116\n",
      "21 109\n",
      "20 80\n",
      "02 58\n",
      "18 109\n",
      "03 54\n",
      "05 46\n",
      "19 110\n",
      "01 60\n",
      "22 71\n",
      "08 48\n",
      "04 47\n",
      "00 55\n",
      "06 44\n",
      "07 34\n",
      "11 58\n"
     ]
    }
   ],
   "source": [
    "for k, v in counts_by_hour.items():\n",
    "    print(k, v)"
   ]
  },
  {
   "cell_type": "code",
   "execution_count": 22,
   "metadata": {},
   "outputs": [
    {
     "name": "stdout",
     "output_type": "stream",
     "text": [
      "09 251\n",
      "13 1253\n",
      "10 793\n",
      "14 1416\n",
      "16 1814\n",
      "23 543\n",
      "12 687\n",
      "17 1146\n",
      "15 4477\n",
      "21 1745\n",
      "20 1722\n",
      "02 1381\n",
      "18 1439\n",
      "03 421\n",
      "05 464\n",
      "19 1188\n",
      "01 683\n",
      "22 479\n",
      "08 492\n",
      "04 337\n",
      "00 447\n",
      "06 397\n",
      "07 267\n",
      "11 641\n"
     ]
    }
   ],
   "source": [
    "for k, v in comments_by_hour.items():\n",
    "    print(k, v)"
   ]
  },
  {
   "cell_type": "markdown",
   "metadata": {},
   "source": [
    "Thus, `counts_by_hour` contains the no. of ask posts created during each hour of the day.\n",
    "`comments_by_hour` contains the no. of comments for the ask posts created during each hour of the day. "
   ]
  },
  {
   "cell_type": "markdown",
   "metadata": {},
   "source": [
    "### Calculating average no. of comments per hour per \"Ask HN\" post"
   ]
  },
  {
   "cell_type": "code",
   "execution_count": 23,
   "metadata": {},
   "outputs": [],
   "source": [
    "avg_by_hour = []"
   ]
  },
  {
   "cell_type": "code",
   "execution_count": 24,
   "metadata": {},
   "outputs": [],
   "source": [
    "for hour in counts_by_hour:\n",
    "    avg_by_hour.append([hour, comments_by_hour[hour] / counts_by_hour[hour]])"
   ]
  },
  {
   "cell_type": "code",
   "execution_count": 25,
   "metadata": {},
   "outputs": [
    {
     "name": "stdout",
     "output_type": "stream",
     "text": [
      "['09', 5.5777777777777775]\n",
      "['13', 14.741176470588234]\n",
      "['10', 13.440677966101696]\n",
      "['14', 13.233644859813085]\n",
      "['16', 16.796296296296298]\n",
      "['23', 7.985294117647059]\n",
      "['12', 9.41095890410959]\n",
      "['17', 11.46]\n",
      "['15', 38.5948275862069]\n",
      "['21', 16.009174311926607]\n",
      "['20', 21.525]\n",
      "['02', 23.810344827586206]\n",
      "['18', 13.20183486238532]\n",
      "['03', 7.796296296296297]\n",
      "['05', 10.08695652173913]\n",
      "['19', 10.8]\n",
      "['01', 11.383333333333333]\n",
      "['22', 6.746478873239437]\n",
      "['08', 10.25]\n",
      "['04', 7.170212765957447]\n",
      "['00', 8.127272727272727]\n",
      "['06', 9.022727272727273]\n",
      "['07', 7.852941176470588]\n",
      "['11', 11.051724137931034]\n"
     ]
    }
   ],
   "source": [
    "print(*avg_by_hour, sep='\\n')"
   ]
  },
  {
   "cell_type": "markdown",
   "metadata": {},
   "source": [
    "Sorting `avg_by_hour` in desc. order with the key set as avg no. of comments for each hour (i.e. second element in each sublist inside the list 'avg_by_hour'):"
   ]
  },
  {
   "cell_type": "code",
   "execution_count": 26,
   "metadata": {},
   "outputs": [],
   "source": [
    "avg_by_hour.sort(reverse=True, key=lambda row:row[1])"
   ]
  },
  {
   "cell_type": "code",
   "execution_count": 27,
   "metadata": {},
   "outputs": [
    {
     "name": "stdout",
     "output_type": "stream",
     "text": [
      "['15', 38.5948275862069]\n",
      "['02', 23.810344827586206]\n",
      "['20', 21.525]\n",
      "['16', 16.796296296296298]\n",
      "['21', 16.009174311926607]\n",
      "['13', 14.741176470588234]\n",
      "['10', 13.440677966101696]\n",
      "['14', 13.233644859813085]\n",
      "['18', 13.20183486238532]\n",
      "['17', 11.46]\n",
      "['01', 11.383333333333333]\n",
      "['11', 11.051724137931034]\n",
      "['19', 10.8]\n",
      "['08', 10.25]\n",
      "['05', 10.08695652173913]\n",
      "['12', 9.41095890410959]\n",
      "['06', 9.022727272727273]\n",
      "['00', 8.127272727272727]\n",
      "['23', 7.985294117647059]\n",
      "['07', 7.852941176470588]\n",
      "['03', 7.796296296296297]\n",
      "['04', 7.170212765957447]\n",
      "['22', 6.746478873239437]\n",
      "['09', 5.5777777777777775]\n"
     ]
    }
   ],
   "source": [
    "print(*avg_by_hour, sep='\\n')"
   ]
  },
  {
   "cell_type": "markdown",
   "metadata": {},
   "source": [
    "## Conclusion"
   ]
  },
  {
   "cell_type": "markdown",
   "metadata": {},
   "source": [
    "Displaying hour and corresponding avg no of comments for \n",
    "\"Top 5 hours for Ask Posts comments\":"
   ]
  },
  {
   "cell_type": "code",
   "execution_count": 28,
   "metadata": {},
   "outputs": [
    {
     "name": "stdout",
     "output_type": "stream",
     "text": [
      "15:00: 38.59 average comments per post\n",
      "02:00: 23.81 average comments per post\n",
      "20:00: 21.52 average comments per post\n",
      "16:00: 16.80 average comments per post\n",
      "21:00: 16.01 average comments per post\n"
     ]
    }
   ],
   "source": [
    "for row in avg_by_hour[:5]:\n",
    "    dateobj = dt.datetime.strptime(row[0], \"%H\")\n",
    "    hour = dateobj.strftime(\"%H:%M\")\n",
    "    avg_comments = row[1]\n",
    "    print(\"{}: {:.2f} average comments per post\".format(hour, avg_comments))"
   ]
  },
  {
   "cell_type": "markdown",
   "metadata": {},
   "source": [
    "Thus, posting at these hours seem to have a higher chance for receiving comments."
   ]
  }
 ],
 "metadata": {
  "kernelspec": {
   "display_name": "Python 3",
   "language": "python",
   "name": "python3"
  },
  "language_info": {
   "codemirror_mode": {
    "name": "ipython",
    "version": 3
   },
   "file_extension": ".py",
   "mimetype": "text/x-python",
   "name": "python",
   "nbconvert_exporter": "python",
   "pygments_lexer": "ipython3",
   "version": "3.7.6"
  }
 },
 "nbformat": 4,
 "nbformat_minor": 2
}
