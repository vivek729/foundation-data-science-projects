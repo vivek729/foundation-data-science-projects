{
 "cells": [
  {
   "cell_type": "markdown",
   "metadata": {
    "collapsed": true
   },
   "source": [
    "# Profitable App Profiles for the App Store and Google Play Markets\n",
    "The aim is to find the app profiles that are profitable for the App Store and Google Play markets. \n",
    "\n",
    "Scenario:\n",
    "\n",
    "We're working as data analysts for a company that builds Android and iOS mobile apps, and our task is to enable our team of developers to make data-driven decisions with respect to the kind of apps they build.\n",
    "At our company, we only build apps that are free to download and install, and our main source of revenue consists of in-app ads. This means that our revenue for any given app is mostly influenced by the number of users that use our app. Our goal for this project is to analyze data to help our developers understand what kind of apps are likely to attract more users."
   ]
  },
  {
   "cell_type": "markdown",
   "metadata": {
    "collapsed": true
   },
   "source": [
    "## Data sets used:\n",
    "* [Google Play store apps data](https://www.kaggle.com/lava18/google-play-store-apps/home) containing data for approximately ten thousand Android apps from Google Play\n",
    "* [iOS Apps Store apps data](https://www.kaggle.com/ramamet4/app-store-apple-data-set-10k-apps/home) containing data for approximately seven thousand iOS apps from the App Store"
   ]
  },
  {
   "cell_type": "code",
   "execution_count": 1,
   "metadata": {},
   "outputs": [],
   "source": [
    "from csv import reader\n",
    "\n",
    "# The Google Play Store data set\n",
    "opened_file = open(\"datasets/googleplaystore.csv\")\n",
    "read_file = reader(opened_file)\n",
    "android_apps_data = list(read_file)\n",
    "android_header = android_apps_data[0]\n",
    "android = android_apps_data[1:]\n",
    "\n",
    "# The App Store data set\n",
    "opened_file = open(\"datasets/AppleStore.csv\")\n",
    "read_file = reader(opened_file)\n",
    "ios_apps_data = list(read_file)\n",
    "ios_header = ios_apps_data[0]\n",
    "ios = ios_apps_data[1:]"
   ]
  },
  {
   "cell_type": "markdown",
   "metadata": {},
   "source": [
    "Defining a handy function `explore_data()` that we can use repeatedly to explore data in amore readable way. Also added an option for our function to show number of rows and columns for any data set. "
   ]
  },
  {
   "cell_type": "code",
   "execution_count": 2,
   "metadata": {},
   "outputs": [],
   "source": [
    "def explore_data(dataset, start, end, rows_and_columns=False):\n",
    "    dataset_slice = dataset[start:end]\n",
    "    for row in dataset_slice:\n",
    "        print(row)\n",
    "        print(\"\\n\") # adds a new (empty) line between rows\n",
    "        \n",
    "    if rows_and_columns:\n",
    "        print(\"Number of rows:\", len(dataset))\n",
    "        print(\"Number of columns:\", len(dataset[0]))"
   ]
  },
  {
   "cell_type": "code",
   "execution_count": 3,
   "metadata": {},
   "outputs": [
    {
     "name": "stdout",
     "output_type": "stream",
     "text": [
      "['App', 'Category', 'Rating', 'Reviews', 'Size', 'Installs', 'Type', 'Price', 'Content Rating', 'Genres', 'Last Updated', 'Current Ver', 'Android Ver']\n",
      "\n",
      "\n",
      "['Photo Editor & Candy Camera & Grid & ScrapBook', 'ART_AND_DESIGN', '4.1', '159', '19M', '10,000+', 'Free', '0', 'Everyone', 'Art & Design', 'January 7, 2018', '1.0.0', '4.0.3 and up']\n",
      "\n",
      "\n",
      "['Coloring book moana', 'ART_AND_DESIGN', '3.9', '967', '14M', '500,000+', 'Free', '0', 'Everyone', 'Art & Design;Pretend Play', 'January 15, 2018', '2.0.0', '4.0.3 and up']\n",
      "\n",
      "\n",
      "['U Launcher Lite – FREE Live Cool Themes, Hide Apps', 'ART_AND_DESIGN', '4.7', '87510', '8.7M', '5,000,000+', 'Free', '0', 'Everyone', 'Art & Design', 'August 1, 2018', '1.2.4', '4.0.3 and up']\n",
      "\n",
      "\n",
      "['Sketch - Draw & Paint', 'ART_AND_DESIGN', '4.5', '215644', '25M', '50,000,000+', 'Free', '0', 'Teen', 'Art & Design', 'June 8, 2018', 'Varies with device', '4.2 and up']\n",
      "\n",
      "\n",
      "['Pixel Draw - Number Art Coloring Book', 'ART_AND_DESIGN', '4.3', '967', '2.8M', '100,000+', 'Free', '0', 'Everyone', 'Art & Design;Creativity', 'June 20, 2018', '1.1', '4.4 and up']\n",
      "\n",
      "\n",
      "Number of rows: 10841\n",
      "Number of columns: 13\n"
     ]
    }
   ],
   "source": [
    "print(android_header)\n",
    "print(\"\\n\")\n",
    "explore_data(android, 0, 5, True)"
   ]
  },
  {
   "cell_type": "markdown",
   "metadata": {},
   "source": [
    "We see that Google Play store data set has 10841 apps and 13 columns. At a quick glance, the columns that might be useful for the purpose of our analysis are `'App', 'Category', 'Reviews', 'Installs', 'Type', 'Price'` and `'Genres'`.\n",
    "\n",
    "The description of these column names can be found in the Google Play Store data set [documentation](https://www.kaggle.com/ramamet4/app-store-apple-data-set-10k-apps/home)"
   ]
  },
  {
   "cell_type": "markdown",
   "metadata": {},
   "source": [
    "Exploring iOS App Store data set:"
   ]
  },
  {
   "cell_type": "code",
   "execution_count": 4,
   "metadata": {},
   "outputs": [
    {
     "name": "stdout",
     "output_type": "stream",
     "text": [
      "['id', 'track_name', 'size_bytes', 'currency', 'price', 'rating_count_tot', 'rating_count_ver', 'user_rating', 'user_rating_ver', 'ver', 'cont_rating', 'prime_genre', 'sup_devices.num', 'ipadSc_urls.num', 'lang.num', 'vpp_lic']\n",
      "\n",
      "\n",
      "['284882215', 'Facebook', '389879808', 'USD', '0.0', '2974676', '212', '3.5', '3.5', '95.0', '4+', 'Social Networking', '37', '1', '29', '1']\n",
      "\n",
      "\n",
      "['389801252', 'Instagram', '113954816', 'USD', '0.0', '2161558', '1289', '4.5', '4.0', '10.23', '12+', 'Photo & Video', '37', '0', '29', '1']\n",
      "\n",
      "\n",
      "['529479190', 'Clash of Clans', '116476928', 'USD', '0.0', '2130805', '579', '4.5', '4.5', '9.24.12', '9+', 'Games', '38', '5', '18', '1']\n",
      "\n",
      "\n",
      "['420009108', 'Temple Run', '65921024', 'USD', '0.0', '1724546', '3842', '4.5', '4.0', '1.6.2', '9+', 'Games', '40', '5', '1', '1']\n",
      "\n",
      "\n",
      "['284035177', 'Pandora - Music & Radio', '130242560', 'USD', '0.0', '1126879', '3594', '4.0', '4.5', '8.4.1', '12+', 'Music', '37', '4', '1', '1']\n",
      "\n",
      "\n",
      "Number of rows: 7197\n",
      "Number of columns: 16\n"
     ]
    }
   ],
   "source": [
    "print(ios_header)\n",
    "print(\"\\n\")\n",
    "explore_data(ios, 0, 5, True)"
   ]
  },
  {
   "cell_type": "markdown",
   "metadata": {},
   "source": [
    "We have 7197 iOS apps in this data set, and the columns that seem interesting  are: `'track_name', 'currency', 'price', 'rating_count_tot', 'rating_count_ver'` and `'prime_genre'`.\n",
    "\n",
    "The description of these column names can be found in the iOS App Store data set [documentation](https://www.kaggle.com/lava18/google-play-store-apps/home)\n"
   ]
  },
  {
   "cell_type": "markdown",
   "metadata": {},
   "source": [
    "## Deleting Wrong Data"
   ]
  },
  {
   "cell_type": "markdown",
   "metadata": {},
   "source": [
    "From the [discussion section](https://www.kaggle.com/lava18/google-play-store-apps/discussion) of Google Play store data set, we find there's an issue with data at index 10472 - [discussion link](https://www.kaggle.com/lava18/google-play-store-apps/discussion/66015)."
   ]
  },
  {
   "cell_type": "markdown",
   "metadata": {},
   "source": [
    "Printing this row and comparing it to the header and another row that's correct:"
   ]
  },
  {
   "cell_type": "code",
   "execution_count": 5,
   "metadata": {},
   "outputs": [
    {
     "name": "stdout",
     "output_type": "stream",
     "text": [
      "['Life Made WI-Fi Touchscreen Photo Frame', '1.9', '19', '3.0M', '1,000+', 'Free', '0', 'Everyone', '', 'February 11, 2018', '1.0.19', '4.0 and up']\n"
     ]
    }
   ],
   "source": [
    "print(android[10472])"
   ]
  },
  {
   "cell_type": "code",
   "execution_count": 6,
   "metadata": {},
   "outputs": [
    {
     "name": "stdout",
     "output_type": "stream",
     "text": [
      "['App', 'Category', 'Rating', 'Reviews', 'Size', 'Installs', 'Type', 'Price', 'Content Rating', 'Genres', 'Last Updated', 'Current Ver', 'Android Ver']\n"
     ]
    }
   ],
   "source": [
    "print(android_header)"
   ]
  },
  {
   "cell_type": "code",
   "execution_count": 7,
   "metadata": {},
   "outputs": [
    {
     "name": "stdout",
     "output_type": "stream",
     "text": [
      "['Paper flowers instructions', 'ART_AND_DESIGN', '4.4', '167', '5.6M', '50,000+', 'Free', '0', 'Everyone', 'Art & Design', 'March 26, 2017', '1.0', '2.3 and up']\n"
     ]
    }
   ],
   "source": [
    "print(android[5])"
   ]
  },
  {
   "cell_type": "markdown",
   "metadata": {},
   "source": [
    "Observation: Rating for the app at index 10472 is 19 which is not possible (max rating = 5). Deleting this row:"
   ]
  },
  {
   "cell_type": "code",
   "execution_count": 8,
   "metadata": {},
   "outputs": [
    {
     "name": "stdout",
     "output_type": "stream",
     "text": [
      "10841\n"
     ]
    }
   ],
   "source": [
    "print(len(android))"
   ]
  },
  {
   "cell_type": "code",
   "execution_count": 9,
   "metadata": {},
   "outputs": [],
   "source": [
    "del android[10472]"
   ]
  },
  {
   "cell_type": "code",
   "execution_count": 10,
   "metadata": {},
   "outputs": [
    {
     "name": "stdout",
     "output_type": "stream",
     "text": [
      "10840\n"
     ]
    }
   ],
   "source": [
    "print(len(android))"
   ]
  },
  {
   "cell_type": "markdown",
   "metadata": {},
   "source": [
    "## Removing Duplicate Entries"
   ]
  },
  {
   "cell_type": "markdown",
   "metadata": {
    "collapsed": true
   },
   "source": [
    "Check if Google play apps data set has duplicate entries."
   ]
  },
  {
   "cell_type": "code",
   "execution_count": 11,
   "metadata": {
    "scrolled": true
   },
   "outputs": [
    {
     "name": "stdout",
     "output_type": "stream",
     "text": [
      "No. of duplicate google play apps: 1181\n",
      "\n",
      "\n",
      "Examples of duplicate apps:\n",
      " ['Quick PDF Scanner + OCR FREE', 'Box', 'Google My Business', 'ZOOM Cloud Meetings', 'join.me - Simple Meetings', 'Box', 'Zenefits', 'Google Ads', 'Google My Business', 'Slack', 'FreshBooks Classic', 'Insightly CRM', 'QuickBooks Accounting: Invoicing & Expenses', 'HipChat - Chat Built for Teams', 'Xero Accounting Software']\n"
     ]
    }
   ],
   "source": [
    "unique_apps = []\n",
    "duplicate_apps = []\n",
    "for row in android:\n",
    "    app_name = row[0]\n",
    "    if app_name in unique_apps:\n",
    "        duplicate_apps.append(app_name)\n",
    "    else:\n",
    "        unique_apps.append(app_name)\n",
    "\n",
    "print(\"No. of duplicate google play apps:\", len(duplicate_apps))\n",
    "print(\"\\n\");\n",
    "print(\"Examples of duplicate apps:\\n\", duplicate_apps[:15])"
   ]
  },
  {
   "cell_type": "markdown",
   "metadata": {},
   "source": [
    "Duplicate entries need to removed as we don't want to count certain apps more than once when we analyze the data. We can can decide randomly which duplicate entries are to removed per app, but a better solution is to keep the entry with maximum number of reviews and remove the rest of the entries for that app."
   ]
  },
  {
   "cell_type": "markdown",
   "metadata": {},
   "source": [
    "We observed 1181 duplicate app entries in Google Play dataset. After we remove the duplicates expected length of android data set:"
   ]
  },
  {
   "cell_type": "code",
   "execution_count": 12,
   "metadata": {},
   "outputs": [
    {
     "name": "stdout",
     "output_type": "stream",
     "text": [
      "Expected length of Google play data set after removing duplicate entries: 9659\n"
     ]
    }
   ],
   "source": [
    "print('Expected length of Google play data set after removing duplicate entries:', len(android) - 1181)"
   ]
  },
  {
   "cell_type": "code",
   "execution_count": 13,
   "metadata": {},
   "outputs": [],
   "source": [
    "reviews_max = {}\n",
    "for row in android:\n",
    "    name = row[0];\n",
    "    n_reviews = float(row[3])\n",
    "    if (name in reviews_max) and (reviews_max[name] < n_reviews):\n",
    "        reviews_max[name] = n_reviews\n",
    "    elif name not in reviews_max:\n",
    "        reviews_max[name] = n_reviews"
   ]
  },
  {
   "cell_type": "markdown",
   "metadata": {},
   "source": [
    "Expected length of `reviews_max` dictionary is the difference between total entries and number of duplicate entries in the data set (1181 as computed previously)."
   ]
  },
  {
   "cell_type": "code",
   "execution_count": 14,
   "metadata": {},
   "outputs": [
    {
     "name": "stdout",
     "output_type": "stream",
     "text": [
      "Expected length of reviews_max =  9659\n",
      "Actual length of reviews_max =  9659\n"
     ]
    }
   ],
   "source": [
    "print(\"Expected length of reviews_max = \", len(android) - 1181)\n",
    "print(\"Actual length of reviews_max = \", len(reviews_max))"
   ]
  },
  {
   "cell_type": "markdown",
   "metadata": {},
   "source": [
    "Now we need to remove duplicates using the reviews_max dictionary."
   ]
  },
  {
   "cell_type": "markdown",
   "metadata": {},
   "source": [
    "Procedure:\n",
    "* Create empty list `android_clean` that will reflect our data set after removing all the duplicates\n",
    "* Create variable `already_added` to keep track of apps that we have already added to `android_clean`\n",
    "* Loop through the Google Play data set `android`, and for each iteration:\n",
    "    * Check if no. of reviews for that row is equal to the maximum review for that app using the dictionary `reviews_max` and app should not be in the `already_added` list. We need this second check as it's possible an app can have multiple entries in our data set such that two or more of those entries have no. of reviews same as max review. Without the second check, we would end up with duplicate entries for some apps.\n",
    "    \n",
    "    If this condition is satisfied, append this row to `android_clean` list.\n",
    "    Also, append the app name to `already_added` list."
   ]
  },
  {
   "cell_type": "code",
   "execution_count": 15,
   "metadata": {},
   "outputs": [],
   "source": [
    "android_clean = []\n",
    "already_added = []"
   ]
  },
  {
   "cell_type": "code",
   "execution_count": 16,
   "metadata": {},
   "outputs": [],
   "source": [
    "for row in android:\n",
    "    name = row[0]\n",
    "    n_reviews = float(row[3])\n",
    "    if (n_reviews == reviews_max[name]) and (name not in already_added):\n",
    "        android_clean.append(row)\n",
    "        already_added.append(name)"
   ]
  },
  {
   "cell_type": "markdown",
   "metadata": {},
   "source": [
    "We explore android_clean and confirm no. of entries is indeed 9659:"
   ]
  },
  {
   "cell_type": "code",
   "execution_count": 17,
   "metadata": {},
   "outputs": [
    {
     "name": "stdout",
     "output_type": "stream",
     "text": [
      "['Photo Editor & Candy Camera & Grid & ScrapBook', 'ART_AND_DESIGN', '4.1', '159', '19M', '10,000+', 'Free', '0', 'Everyone', 'Art & Design', 'January 7, 2018', '1.0.0', '4.0.3 and up']\n",
      "\n",
      "\n",
      "['U Launcher Lite – FREE Live Cool Themes, Hide Apps', 'ART_AND_DESIGN', '4.7', '87510', '8.7M', '5,000,000+', 'Free', '0', 'Everyone', 'Art & Design', 'August 1, 2018', '1.2.4', '4.0.3 and up']\n",
      "\n",
      "\n",
      "['Sketch - Draw & Paint', 'ART_AND_DESIGN', '4.5', '215644', '25M', '50,000,000+', 'Free', '0', 'Teen', 'Art & Design', 'June 8, 2018', 'Varies with device', '4.2 and up']\n",
      "\n",
      "\n",
      "['Pixel Draw - Number Art Coloring Book', 'ART_AND_DESIGN', '4.3', '967', '2.8M', '100,000+', 'Free', '0', 'Everyone', 'Art & Design;Creativity', 'June 20, 2018', '1.1', '4.4 and up']\n",
      "\n",
      "\n",
      "['Paper flowers instructions', 'ART_AND_DESIGN', '4.4', '167', '5.6M', '50,000+', 'Free', '0', 'Everyone', 'Art & Design', 'March 26, 2017', '1.0', '2.3 and up']\n",
      "\n",
      "\n",
      "Number of rows: 9659\n",
      "Number of columns: 13\n"
     ]
    }
   ],
   "source": [
    "explore_data(android_clean, 0, 5, True)"
   ]
  },
  {
   "cell_type": "markdown",
   "metadata": {},
   "source": [
    "We have 9659 rows, just as expected. "
   ]
  },
  {
   "cell_type": "markdown",
   "metadata": {},
   "source": [
    "## Removing non-English apps"
   ]
  },
  {
   "cell_type": "markdown",
   "metadata": {},
   "source": [
    "The numbers corresponding to the characters we commonly use in an English text are all in the range 0 to 127, according to the ASCII system. Based on this number range, we can build a function that detects whether a character belongs to the set of common English characters or not. If the number is equal to or less than 127, then the character belongs to the set of common English characters."
   ]
  },
  {
   "cell_type": "markdown",
   "metadata": {},
   "source": [
    "We use the built-in `ord` function to find out the corresponding encoding no. of each character."
   ]
  },
  {
   "cell_type": "code",
   "execution_count": 18,
   "metadata": {},
   "outputs": [],
   "source": [
    "def is_english(string):\n",
    "    for ch in string:\n",
    "        if ord(ch) > 127:\n",
    "            return False\n",
    "    return True"
   ]
  },
  {
   "cell_type": "code",
   "execution_count": 19,
   "metadata": {},
   "outputs": [
    {
     "name": "stdout",
     "output_type": "stream",
     "text": [
      "True\n",
      "False\n"
     ]
    }
   ],
   "source": [
    "print(is_english(\"Instagram\"))\n",
    "print(is_english(\"爱奇艺PPS -《欢乐颂2》电视剧热播\"))"
   ]
  },
  {
   "cell_type": "markdown",
   "metadata": {},
   "source": [
    "There is possibility of occurence of characters like (™, — (em dash), – (en dash) that falls outside of ASCII range but apps can be misjudged as non-English if we use the above function as it is.\n",
    "To minimize the impact of data loss, we'll only remove an app if its name has more that three non-ASCII characters."
   ]
  },
  {
   "cell_type": "code",
   "execution_count": 20,
   "metadata": {},
   "outputs": [],
   "source": [
    "def is_english(string):\n",
    "    non_ascii = 0\n",
    "    for ch in string:\n",
    "        if ord(ch) > 127:\n",
    "            non_ascii += 1\n",
    "    if non_ascii > 3:\n",
    "        return False\n",
    "    return True"
   ]
  },
  {
   "cell_type": "code",
   "execution_count": 21,
   "metadata": {},
   "outputs": [
    {
     "name": "stdout",
     "output_type": "stream",
     "text": [
      "True\n",
      "True\n"
     ]
    }
   ],
   "source": [
    "print(is_english(\"Docs To Go™ Free Office Suite\"))\n",
    "print(is_english('Instachat 😜'))"
   ]
  },
  {
   "cell_type": "markdown",
   "metadata": {},
   "source": [
    "The function is still not perfect, and very few non-English apps might get past our filter, but this seems good enough at this point in our analysis — we shouldn't spend too much time on optimization at this point.\n",
    "\n",
    "Below, we use the is_english() function to filter out the non-English apps for both data sets:"
   ]
  },
  {
   "cell_type": "code",
   "execution_count": 22,
   "metadata": {},
   "outputs": [],
   "source": [
    "android_english = []\n",
    "ios_english = []\n",
    "\n",
    "for row in android_clean:\n",
    "    name = row[0]\n",
    "    if is_english(name):\n",
    "        android_english.append(row)\n",
    "        \n",
    "for row in ios:\n",
    "    name = row[1]\n",
    "    if is_english(name):\n",
    "        ios_english.append(row)"
   ]
  },
  {
   "cell_type": "code",
   "execution_count": 23,
   "metadata": {
    "scrolled": true
   },
   "outputs": [
    {
     "name": "stdout",
     "output_type": "stream",
     "text": [
      "['Photo Editor & Candy Camera & Grid & ScrapBook', 'ART_AND_DESIGN', '4.1', '159', '19M', '10,000+', 'Free', '0', 'Everyone', 'Art & Design', 'January 7, 2018', '1.0.0', '4.0.3 and up']\n",
      "\n",
      "\n",
      "['U Launcher Lite – FREE Live Cool Themes, Hide Apps', 'ART_AND_DESIGN', '4.7', '87510', '8.7M', '5,000,000+', 'Free', '0', 'Everyone', 'Art & Design', 'August 1, 2018', '1.2.4', '4.0.3 and up']\n",
      "\n",
      "\n",
      "['Sketch - Draw & Paint', 'ART_AND_DESIGN', '4.5', '215644', '25M', '50,000,000+', 'Free', '0', 'Teen', 'Art & Design', 'June 8, 2018', 'Varies with device', '4.2 and up']\n",
      "\n",
      "\n",
      "Number of rows: 9614\n",
      "Number of columns: 13\n",
      "\n",
      "\n",
      "['284882215', 'Facebook', '389879808', 'USD', '0.0', '2974676', '212', '3.5', '3.5', '95.0', '4+', 'Social Networking', '37', '1', '29', '1']\n",
      "\n",
      "\n",
      "['389801252', 'Instagram', '113954816', 'USD', '0.0', '2161558', '1289', '4.5', '4.0', '10.23', '12+', 'Photo & Video', '37', '0', '29', '1']\n",
      "\n",
      "\n",
      "['529479190', 'Clash of Clans', '116476928', 'USD', '0.0', '2130805', '579', '4.5', '4.5', '9.24.12', '9+', 'Games', '38', '5', '18', '1']\n",
      "\n",
      "\n",
      "Number of rows: 6183\n",
      "Number of columns: 16\n"
     ]
    }
   ],
   "source": [
    "explore_data(android_english, 0, 3, True)\n",
    "print(\"\\n\")\n",
    "explore_data(ios_english, 0, 3, True)"
   ]
  },
  {
   "cell_type": "markdown",
   "metadata": {},
   "source": [
    "We observe that we are left with 9614 Android apps and 6183 iOS apps."
   ]
  },
  {
   "cell_type": "markdown",
   "metadata": {},
   "source": [
    "## Isolating the Free Apps"
   ]
  },
  {
   "cell_type": "markdown",
   "metadata": {},
   "source": [
    "As we mentioned in the introduction, we only build apps that are free to download and install, and our main source of revenue consists of in-app ads. Our data sets contain both free and non-free apps, and we'll need to isolate only the free apps for our analysis. Below, we isolate the free apps for both our data sets."
   ]
  },
  {
   "cell_type": "code",
   "execution_count": 24,
   "metadata": {},
   "outputs": [],
   "source": [
    "android_final = [row for row in android_english if row[7] == \"0\"]"
   ]
  },
  {
   "cell_type": "code",
   "execution_count": 25,
   "metadata": {},
   "outputs": [],
   "source": [
    "ios_final = [row for row in ios_english if row[4] == \"0.0\"]"
   ]
  },
  {
   "cell_type": "code",
   "execution_count": 26,
   "metadata": {},
   "outputs": [
    {
     "name": "stdout",
     "output_type": "stream",
     "text": [
      "8864\n",
      "3222\n"
     ]
    }
   ],
   "source": [
    "print(len(android_final))\n",
    "print(len(ios_final))"
   ]
  },
  {
   "cell_type": "markdown",
   "metadata": {},
   "source": [
    "Thus, we are left with 8864 Android apps 3222 iOS apps for analysis."
   ]
  },
  {
   "cell_type": "markdown",
   "metadata": {},
   "source": [
    "As we mentioned in the introduction, our aim is to determine the kinds of apps that are likely to attract more users because our revenue is highly influenced by the number of people using our apps.\n",
    "\n",
    "To minimize risks and overhead, our validation strategy for an app idea is comprised of three steps:\n",
    "\n",
    "1. Build a minimal Android version of the app, and add it to Google Play.\n",
    "2. If the app has a good response from users, we then develop it further.\n",
    "3. If the app is profitable after six months, we also build an iOS version of the app and add it to the App Store.\n",
    "\n",
    "Because our end goal is to add the app on both the App Store and Google Play, we need to find app profiles that are successful on both markets. For instance, a profile that might work well for both markets might be a productivity app that makes use of gamification.\n",
    "\n",
    "Let's begin the analysis by getting a sense of the most common genres for each market. For this, we'll build a frequency table for the `prime_genre` column of the App Store data set, and the `Genres` and `Category` columns of the Google Play data set."
   ]
  },
  {
   "cell_type": "markdown",
   "metadata": {},
   "source": [
    "Creating two functions we can use to analyze the frequency tables:\n",
    "    1. `freq_table()` to generate frequency tables that show percentages.\n",
    "    2. `display_table()` to display the percentages in descending order."
   ]
  },
  {
   "cell_type": "code",
   "execution_count": 27,
   "metadata": {},
   "outputs": [],
   "source": [
    "def freq_table(dataset, index):\n",
    "    table = {}\n",
    "    for row in dataset:\n",
    "        value = row[index]\n",
    "        if value in table:\n",
    "            table[value] += 1\n",
    "        else:\n",
    "            table[value] = 1 \n",
    "            \n",
    "    table_percentages = {}\n",
    "    total = len(dataset)\n",
    "    \n",
    "    for key in table:\n",
    "        table_percentages[key] = (table[key] / total) * 100\n",
    "        \n",
    "    return table_percentages\n",
    "    "
   ]
  },
  {
   "cell_type": "code",
   "execution_count": 28,
   "metadata": {},
   "outputs": [],
   "source": [
    "def display_table(dataset, index):\n",
    "    table = freq_table(dataset, index)\n",
    "    table_content = []\n",
    "    for key in table:\n",
    "        table_content.append((table[key], key))\n",
    "        \n",
    "    table_content.sort(reverse=True)\n",
    "    for item in table_content:\n",
    "        print(item[1], \": \", item[0])"
   ]
  },
  {
   "cell_type": "code",
   "execution_count": 29,
   "metadata": {},
   "outputs": [],
   "source": [
    "# just trying an alternate way to sort a dict based on values\n",
    "def display_table_aliter(dataset, index):\n",
    "    table = freq_table(dataset, index)\n",
    "    table_sorted = (sorted(table.items(), key=lambda kv: kv[1], reverse=True)) \n",
    "    for item in table_sorted:\n",
    "        print(\"{}: {}\".format(item[0], item[1]))"
   ]
  },
  {
   "cell_type": "markdown",
   "metadata": {},
   "source": [
    "Freq-table for `prime_genre` column of App Store data set:"
   ]
  },
  {
   "cell_type": "code",
   "execution_count": 30,
   "metadata": {},
   "outputs": [
    {
     "name": "stdout",
     "output_type": "stream",
     "text": [
      "Games: 58.16263190564867\n",
      "Entertainment: 7.883302296710118\n",
      "Photo & Video: 4.9658597144630665\n",
      "Education: 3.662321539416512\n",
      "Social Networking: 3.2898820608317814\n",
      "Shopping: 2.60707635009311\n",
      "Utilities: 2.5139664804469275\n",
      "Sports: 2.1415270018621975\n",
      "Music: 2.0484171322160147\n",
      "Health & Fitness: 2.0173805090006205\n",
      "Productivity: 1.7380509000620732\n",
      "Lifestyle: 1.5828677839851024\n",
      "News: 1.3345747982619491\n",
      "Travel: 1.2414649286157666\n",
      "Finance: 1.1173184357541899\n",
      "Weather: 0.8690254500310366\n",
      "Food & Drink: 0.8069522036002483\n",
      "Reference: 0.5586592178770949\n",
      "Business: 0.5276225946617008\n",
      "Book: 0.4345127250155183\n",
      "Navigation: 0.186219739292365\n",
      "Medical: 0.186219739292365\n",
      "Catalogs: 0.12414649286157665\n"
     ]
    }
   ],
   "source": [
    "display_table_aliter(ios_final, -5)"
   ]
  },
  {
   "cell_type": "code",
   "execution_count": 31,
   "metadata": {},
   "outputs": [
    {
     "name": "stdout",
     "output_type": "stream",
     "text": [
      "Games :  58.16263190564867\n",
      "Entertainment :  7.883302296710118\n",
      "Photo & Video :  4.9658597144630665\n",
      "Education :  3.662321539416512\n",
      "Social Networking :  3.2898820608317814\n",
      "Shopping :  2.60707635009311\n",
      "Utilities :  2.5139664804469275\n",
      "Sports :  2.1415270018621975\n",
      "Music :  2.0484171322160147\n",
      "Health & Fitness :  2.0173805090006205\n",
      "Productivity :  1.7380509000620732\n",
      "Lifestyle :  1.5828677839851024\n",
      "News :  1.3345747982619491\n",
      "Travel :  1.2414649286157666\n",
      "Finance :  1.1173184357541899\n",
      "Weather :  0.8690254500310366\n",
      "Food & Drink :  0.8069522036002483\n",
      "Reference :  0.5586592178770949\n",
      "Business :  0.5276225946617008\n",
      "Book :  0.4345127250155183\n",
      "Navigation :  0.186219739292365\n",
      "Medical :  0.186219739292365\n",
      "Catalogs :  0.12414649286157665\n"
     ]
    }
   ],
   "source": [
    "display_table(ios_final, -5)"
   ]
  },
  {
   "cell_type": "markdown",
   "metadata": {},
   "source": [
    "We can see that among the free English apps, more than a half (58.16%) are games. Entertainment apps are close to 8%, followed by photo and video apps, which are close to 5%. Only 3.66% of the apps are designed for education, followed by social networking apps which amount for 3.29% of the apps in our data set.\n",
    "\n",
    "The general impression is that App Store (at least the part containing free English apps) is dominated by apps that are designed for fun (games, entertainment, photo and video, social networking, sports, music, etc.), while apps with practical purposes (education, shopping, utilities, productivity, lifestyle, etc.) are more rare. However, the fact that fun apps are the most numerous doesn't also imply that they also have the greatest number of users — the demand might not be the same as the offer."
   ]
  },
  {
   "cell_type": "markdown",
   "metadata": {},
   "source": [
    "Freq-table for `Genres` and `Category` column of Google Play data set:"
   ]
  },
  {
   "cell_type": "code",
   "execution_count": 32,
   "metadata": {},
   "outputs": [
    {
     "name": "stdout",
     "output_type": "stream",
     "text": [
      "Tools :  8.449909747292418\n",
      "Entertainment :  6.069494584837545\n",
      "Education :  5.347472924187725\n",
      "Business :  4.591606498194946\n",
      "Productivity :  3.892148014440433\n",
      "Lifestyle :  3.892148014440433\n",
      "Finance :  3.7003610108303246\n",
      "Medical :  3.531137184115524\n",
      "Sports :  3.463447653429603\n",
      "Personalization :  3.3167870036101084\n",
      "Communication :  3.2378158844765346\n",
      "Action :  3.1024368231046933\n",
      "Health & Fitness :  3.0798736462093865\n",
      "Photography :  2.944494584837545\n",
      "News & Magazines :  2.7978339350180503\n",
      "Social :  2.6624548736462095\n",
      "Travel & Local :  2.3240072202166067\n",
      "Shopping :  2.2450361010830324\n",
      "Books & Reference :  2.1435018050541514\n",
      "Simulation :  2.0419675090252705\n",
      "Dating :  1.861462093862816\n",
      "Arcade :  1.8501805054151623\n",
      "Video Players & Editors :  1.7712093862815883\n",
      "Casual :  1.7599277978339352\n",
      "Maps & Navigation :  1.3989169675090252\n",
      "Food & Drink :  1.2409747292418771\n",
      "Puzzle :  1.128158844765343\n",
      "Racing :  0.9927797833935018\n",
      "Role Playing :  0.9363718411552346\n",
      "Libraries & Demo :  0.9363718411552346\n",
      "Auto & Vehicles :  0.9250902527075812\n",
      "Strategy :  0.9138086642599278\n",
      "House & Home :  0.8235559566787004\n",
      "Weather :  0.8009927797833934\n",
      "Events :  0.7107400722021661\n",
      "Adventure :  0.6768953068592057\n",
      "Comics :  0.6092057761732852\n",
      "Beauty :  0.5979241877256317\n",
      "Art & Design :  0.5979241877256317\n",
      "Parenting :  0.4963898916967509\n",
      "Card :  0.45126353790613716\n",
      "Casino :  0.42870036101083037\n",
      "Trivia :  0.41741877256317694\n",
      "Educational;Education :  0.39485559566787\n",
      "Board :  0.3835740072202166\n",
      "Educational :  0.3722924187725632\n",
      "Education;Education :  0.33844765342960287\n",
      "Word :  0.2594765342960289\n",
      "Casual;Pretend Play :  0.236913357400722\n",
      "Music :  0.2030685920577617\n",
      "Racing;Action & Adventure :  0.16922382671480143\n",
      "Puzzle;Brain Games :  0.16922382671480143\n",
      "Entertainment;Music & Video :  0.16922382671480143\n",
      "Casual;Brain Games :  0.13537906137184114\n",
      "Casual;Action & Adventure :  0.13537906137184114\n",
      "Arcade;Action & Adventure :  0.12409747292418773\n",
      "Action;Action & Adventure :  0.10153429602888085\n",
      "Educational;Pretend Play :  0.09025270758122744\n",
      "Simulation;Action & Adventure :  0.078971119133574\n",
      "Parenting;Education :  0.078971119133574\n",
      "Entertainment;Brain Games :  0.078971119133574\n",
      "Board;Brain Games :  0.078971119133574\n",
      "Parenting;Music & Video :  0.06768953068592057\n",
      "Educational;Brain Games :  0.06768953068592057\n",
      "Casual;Creativity :  0.06768953068592057\n",
      "Art & Design;Creativity :  0.06768953068592057\n",
      "Education;Pretend Play :  0.056407942238267145\n",
      "Role Playing;Pretend Play :  0.04512635379061372\n",
      "Education;Creativity :  0.04512635379061372\n",
      "Role Playing;Action & Adventure :  0.033844765342960284\n",
      "Puzzle;Action & Adventure :  0.033844765342960284\n",
      "Entertainment;Creativity :  0.033844765342960284\n",
      "Entertainment;Action & Adventure :  0.033844765342960284\n",
      "Educational;Creativity :  0.033844765342960284\n",
      "Educational;Action & Adventure :  0.033844765342960284\n",
      "Education;Music & Video :  0.033844765342960284\n",
      "Education;Brain Games :  0.033844765342960284\n",
      "Education;Action & Adventure :  0.033844765342960284\n",
      "Adventure;Action & Adventure :  0.033844765342960284\n",
      "Video Players & Editors;Music & Video :  0.02256317689530686\n",
      "Sports;Action & Adventure :  0.02256317689530686\n",
      "Simulation;Pretend Play :  0.02256317689530686\n",
      "Puzzle;Creativity :  0.02256317689530686\n",
      "Music;Music & Video :  0.02256317689530686\n",
      "Entertainment;Pretend Play :  0.02256317689530686\n",
      "Casual;Education :  0.02256317689530686\n",
      "Board;Action & Adventure :  0.02256317689530686\n",
      "Video Players & Editors;Creativity :  0.01128158844765343\n",
      "Trivia;Education :  0.01128158844765343\n",
      "Travel & Local;Action & Adventure :  0.01128158844765343\n",
      "Tools;Education :  0.01128158844765343\n",
      "Strategy;Education :  0.01128158844765343\n",
      "Strategy;Creativity :  0.01128158844765343\n",
      "Strategy;Action & Adventure :  0.01128158844765343\n",
      "Simulation;Education :  0.01128158844765343\n",
      "Role Playing;Brain Games :  0.01128158844765343\n",
      "Racing;Pretend Play :  0.01128158844765343\n",
      "Puzzle;Education :  0.01128158844765343\n",
      "Parenting;Brain Games :  0.01128158844765343\n",
      "Music & Audio;Music & Video :  0.01128158844765343\n",
      "Lifestyle;Pretend Play :  0.01128158844765343\n",
      "Lifestyle;Education :  0.01128158844765343\n",
      "Health & Fitness;Education :  0.01128158844765343\n",
      "Health & Fitness;Action & Adventure :  0.01128158844765343\n",
      "Entertainment;Education :  0.01128158844765343\n",
      "Communication;Creativity :  0.01128158844765343\n",
      "Comics;Creativity :  0.01128158844765343\n",
      "Casual;Music & Video :  0.01128158844765343\n",
      "Card;Action & Adventure :  0.01128158844765343\n",
      "Books & Reference;Education :  0.01128158844765343\n",
      "Art & Design;Pretend Play :  0.01128158844765343\n",
      "Art & Design;Action & Adventure :  0.01128158844765343\n",
      "Arcade;Pretend Play :  0.01128158844765343\n",
      "Adventure;Education :  0.01128158844765343\n"
     ]
    }
   ],
   "source": [
    "display_table(android_final, -4) # Genre"
   ]
  },
  {
   "cell_type": "code",
   "execution_count": 33,
   "metadata": {},
   "outputs": [
    {
     "name": "stdout",
     "output_type": "stream",
     "text": [
      "FAMILY :  18.907942238267147\n",
      "GAME :  9.724729241877256\n",
      "TOOLS :  8.461191335740072\n",
      "BUSINESS :  4.591606498194946\n",
      "LIFESTYLE :  3.9034296028880866\n",
      "PRODUCTIVITY :  3.892148014440433\n",
      "FINANCE :  3.7003610108303246\n",
      "MEDICAL :  3.531137184115524\n",
      "SPORTS :  3.395758122743682\n",
      "PERSONALIZATION :  3.3167870036101084\n",
      "COMMUNICATION :  3.2378158844765346\n",
      "HEALTH_AND_FITNESS :  3.0798736462093865\n",
      "PHOTOGRAPHY :  2.944494584837545\n",
      "NEWS_AND_MAGAZINES :  2.7978339350180503\n",
      "SOCIAL :  2.6624548736462095\n",
      "TRAVEL_AND_LOCAL :  2.33528880866426\n",
      "SHOPPING :  2.2450361010830324\n",
      "BOOKS_AND_REFERENCE :  2.1435018050541514\n",
      "DATING :  1.861462093862816\n",
      "VIDEO_PLAYERS :  1.7937725631768955\n",
      "MAPS_AND_NAVIGATION :  1.3989169675090252\n",
      "FOOD_AND_DRINK :  1.2409747292418771\n",
      "EDUCATION :  1.1620036101083033\n",
      "ENTERTAINMENT :  0.9589350180505415\n",
      "LIBRARIES_AND_DEMO :  0.9363718411552346\n",
      "AUTO_AND_VEHICLES :  0.9250902527075812\n",
      "HOUSE_AND_HOME :  0.8235559566787004\n",
      "WEATHER :  0.8009927797833934\n",
      "EVENTS :  0.7107400722021661\n",
      "PARENTING :  0.6543321299638989\n",
      "ART_AND_DESIGN :  0.6430505415162455\n",
      "COMICS :  0.6204873646209386\n",
      "BEAUTY :  0.5979241877256317\n"
     ]
    }
   ],
   "source": [
    "display_table(android_final, 1) # Category"
   ]
  },
  {
   "cell_type": "markdown",
   "metadata": {},
   "source": [
    "The landscape seems significantly different on Google Play: there are not that many apps designed for fun, and it seems that a good number of apps are designed for practical purposes (family, tools, business, lifestyle, productivity, etc.). However, if we investigate this further, we can see that the family category (which accounts for almost 19% of the apps) means mostly games for kids.\n"
   ]
  },
  {
   "cell_type": "markdown",
   "metadata": {},
   "source": [
    "`Genres` column is much more granular (it has more categories). We're only looking for the bigger picture at the moment, so we'll only work with the Category column moving forward."
   ]
  },
  {
   "cell_type": "markdown",
   "metadata": {},
   "source": [
    "Up to this point, we found that the App Store is dominated by apps designed for fun, while Google Play shows a more balanced landscape of both practical and for-fun apps. Now we'd like to get an idea about the kind of apps that have most users."
   ]
  },
  {
   "cell_type": "markdown",
   "metadata": {
    "collapsed": true
   },
   "source": [
    "## Most Popular Apps by Genre on the App Store"
   ]
  },
  {
   "cell_type": "code",
   "execution_count": 34,
   "metadata": {},
   "outputs": [],
   "source": [
    "freq_table_genre = freq_table(ios_final, -5)"
   ]
  },
  {
   "cell_type": "code",
   "execution_count": 35,
   "metadata": {},
   "outputs": [
    {
     "name": "stdout",
     "output_type": "stream",
     "text": [
      "Social Networking :  71548.34905660378\n",
      "Photo & Video :  28441.54375\n",
      "Games :  22788.6696905016\n",
      "Music :  57326.530303030304\n",
      "Reference :  74942.11111111111\n",
      "Health & Fitness :  23298.015384615384\n",
      "Weather :  52279.892857142855\n",
      "Utilities :  18684.456790123455\n",
      "Travel :  28243.8\n",
      "Shopping :  26919.690476190477\n",
      "News :  21248.023255813954\n",
      "Navigation :  86090.33333333333\n",
      "Lifestyle :  16485.764705882353\n",
      "Entertainment :  14029.830708661417\n",
      "Food & Drink :  33333.92307692308\n",
      "Sports :  23008.898550724636\n",
      "Book :  39758.5\n",
      "Finance :  31467.944444444445\n",
      "Education :  7003.983050847458\n",
      "Productivity :  21028.410714285714\n",
      "Business :  7491.117647058823\n",
      "Catalogs :  4004.0\n",
      "Medical :  612.0\n"
     ]
    }
   ],
   "source": [
    "for genre in freq_table_genre:\n",
    "    len_genre = 0\n",
    "    total = 0  # total no. ratings for apps of this genre  \n",
    "    for row in ios_final:\n",
    "        genre_app = row[-5]\n",
    "        if genre_app == genre:\n",
    "            len_genre += 1\n",
    "            total += float(row[5])\n",
    "    avg_no_of_user_ratings = total / len_genre\n",
    "    print(genre, \": \", avg_no_of_user_ratings)"
   ]
  },
  {
   "cell_type": "markdown",
   "metadata": {},
   "source": [
    "It seems apps of Navigation genre are most popular among the users but this figure is skewed due to apps like Waze and Google Maps which have considerably high no. of user ratings compared to other apps of this category:"
   ]
  },
  {
   "cell_type": "code",
   "execution_count": 36,
   "metadata": {},
   "outputs": [
    {
     "name": "stdout",
     "output_type": "stream",
     "text": [
      "Waze - GPS Navigation, Maps & Real-time Traffic :  345046\n",
      "Google Maps - Navigation & Transit :  154911\n",
      "Geocaching® :  12811\n",
      "CoPilot GPS – Car Navigation & Offline Maps :  3582\n",
      "ImmobilienScout24: Real Estate Search in Germany :  187\n",
      "Railway Route Search :  5\n"
     ]
    }
   ],
   "source": [
    "for row in ios_final:\n",
    "    genre_app = row[-5]\n",
    "    app_name = row[1]\n",
    "    if genre_app == \"Navigation\":\n",
    "        no_of_user_ratings = row[5]\n",
    "        print(app_name, \": \", no_of_user_ratings)"
   ]
  },
  {
   "cell_type": "markdown",
   "metadata": {},
   "source": [
    "The same pattern applies to social networking apps, where the average number is heavily influenced by a few giants like Facebook, Pinterest, Skype, etc. Same applies to music apps, where a few big players like Pandora, Spotify, and Shazam heavily influence the average number.\n",
    "\n",
    "Our aim is to find popular genres, but navigation, social networking or music apps might seem more popular than they really are. The average number of ratings seem to be skewed by very few apps which have hundreds of thousands of user ratings, while the other apps may struggle to get past the 10,000 threshold."
   ]
  },
  {
   "cell_type": "markdown",
   "metadata": {},
   "source": [
    "Reference apps category has around 74942 no. of average user ratings. Lets have a look at the distribution of no. of ratings for apps of this category: "
   ]
  },
  {
   "cell_type": "code",
   "execution_count": 37,
   "metadata": {},
   "outputs": [
    {
     "name": "stdout",
     "output_type": "stream",
     "text": [
      "Bible :  985920\n",
      "Dictionary.com Dictionary & Thesaurus :  200047\n",
      "Dictionary.com Dictionary & Thesaurus for iPad :  54175\n",
      "Google Translate :  26786\n",
      "Muslim Pro: Ramadan 2017 Prayer Times, Azan, Quran :  18418\n",
      "New Furniture Mods - Pocket Wiki & Game Tools for Minecraft PC Edition :  17588\n",
      "Merriam-Webster Dictionary :  16849\n",
      "Night Sky :  12122\n",
      "City Maps for Minecraft PE - The Best Maps for Minecraft Pocket Edition (MCPE) :  8535\n",
      "LUCKY BLOCK MOD ™ for Minecraft PC Edition - The Best Pocket Wiki & Mods Installer Tools :  4693\n",
      "GUNS MODS for Minecraft PC Edition - Mods Tools :  1497\n",
      "Guides for Pokémon GO - Pokemon GO News and Cheats :  826\n",
      "WWDC :  762\n",
      "Horror Maps for Minecraft PE - Download The Scariest Maps for Minecraft Pocket Edition (MCPE) Free :  718\n",
      "VPN Express :  14\n",
      "Real Bike Traffic Rider Virtual Reality Glasses :  8\n",
      "教えて!goo :  0\n",
      "Jishokun-Japanese English Dictionary & Translator :  0\n"
     ]
    }
   ],
   "source": [
    "for row in ios_final:\n",
    "    if row[-5] == \"Reference\":\n",
    "        print(row[1], \": \", row[5])"
   ]
  },
  {
   "cell_type": "markdown",
   "metadata": {},
   "source": [
    "Again, averge no. of user ratings for apps of 'Reference' category is skewed by apps like 'Bible' and 'Dictionary.com Dictionary & Thesaurus' but at least other apps are able to reach 10000 ratings. This genre looks promising.\n",
    "\n",
    "While we observed that App Store is highly saturated by apps of fun category, making an app for reference category makes sense. A practical app might have more of a chance to stand out among the huge number of apps on the App Store. "
   ]
  },
  {
   "cell_type": "markdown",
   "metadata": {},
   "source": [
    "## Most Popular Apps by Genre on Google Play "
   ]
  },
  {
   "cell_type": "markdown",
   "metadata": {},
   "source": [
    "In the Google Play data set, we have no. of installs for each app. We will use this column for determing most popular app category."
   ]
  },
  {
   "cell_type": "code",
   "execution_count": 38,
   "metadata": {},
   "outputs": [
    {
     "name": "stdout",
     "output_type": "stream",
     "text": [
      "1,000,000+ :  15.726534296028879\n",
      "100,000+ :  11.552346570397113\n",
      "10,000,000+ :  10.548285198555957\n",
      "10,000+ :  10.198555956678701\n",
      "1,000+ :  8.393501805054152\n",
      "100+ :  6.915613718411552\n",
      "5,000,000+ :  6.825361010830325\n",
      "500,000+ :  5.561823104693141\n",
      "50,000+ :  4.7721119133574\n",
      "5,000+ :  4.512635379061372\n",
      "10+ :  3.5424187725631766\n",
      "500+ :  3.2490974729241873\n",
      "50,000,000+ :  2.3014440433213\n",
      "100,000,000+ :  2.1322202166064983\n",
      "50+ :  1.917870036101083\n",
      "5+ :  0.78971119133574\n",
      "1+ :  0.5076714801444043\n",
      "500,000,000+ :  0.2707581227436823\n",
      "1,000,000,000+ :  0.22563176895306858\n",
      "0+ :  0.04512635379061372\n",
      "0 :  0.01128158844765343\n"
     ]
    }
   ],
   "source": [
    "display_table(android_final, 5)"
   ]
  },
  {
   "cell_type": "markdown",
   "metadata": {},
   "source": [
    "The installs column values are not precise. Howerver, for our purposes we need to get an overall picture of the popularity of various genre of apps.\n",
    "So, we will treat these values as it is, like 1000+ can be treated as 1000."
   ]
  },
  {
   "cell_type": "code",
   "execution_count": 39,
   "metadata": {},
   "outputs": [],
   "source": [
    "freq_table_android = freq_table(android_final, 1)"
   ]
  },
  {
   "cell_type": "code",
   "execution_count": 40,
   "metadata": {},
   "outputs": [
    {
     "name": "stdout",
     "output_type": "stream",
     "text": [
      "ART_AND_DESIGN :  1986335.0877192982\n",
      "AUTO_AND_VEHICLES :  647317.8170731707\n",
      "BEAUTY :  513151.88679245283\n",
      "BOOKS_AND_REFERENCE :  8767811.894736841\n",
      "BUSINESS :  1712290.1474201474\n",
      "COMICS :  817657.2727272727\n",
      "COMMUNICATION :  38456119.167247385\n",
      "DATING :  854028.8303030303\n",
      "EDUCATION :  1833495.145631068\n",
      "ENTERTAINMENT :  11640705.88235294\n",
      "EVENTS :  253542.22222222222\n",
      "FINANCE :  1387692.475609756\n",
      "FOOD_AND_DRINK :  1924897.7363636363\n",
      "HEALTH_AND_FITNESS :  4188821.9853479853\n",
      "HOUSE_AND_HOME :  1331540.5616438356\n",
      "LIBRARIES_AND_DEMO :  638503.734939759\n",
      "LIFESTYLE :  1437816.2687861272\n",
      "GAME :  15588015.603248259\n",
      "FAMILY :  3695641.8198090694\n",
      "MEDICAL :  120550.61980830671\n",
      "SOCIAL :  23253652.127118643\n",
      "SHOPPING :  7036877.311557789\n",
      "PHOTOGRAPHY :  17840110.40229885\n",
      "SPORTS :  3638640.1428571427\n",
      "TRAVEL_AND_LOCAL :  13984077.710144928\n",
      "TOOLS :  10801391.298666667\n",
      "PERSONALIZATION :  5201482.6122448975\n",
      "PRODUCTIVITY :  16787331.344927534\n",
      "PARENTING :  542603.6206896552\n",
      "WEATHER :  5074486.197183099\n",
      "VIDEO_PLAYERS :  24727872.452830188\n",
      "NEWS_AND_MAGAZINES :  9549178.467741935\n",
      "MAPS_AND_NAVIGATION :  4056941.7741935486\n"
     ]
    }
   ],
   "source": [
    "for category in freq_table_android:\n",
    "    len_category = 0;\n",
    "    total = 0\n",
    "    for row in android_final:\n",
    "        category_app = row[1]\n",
    "        if category_app == category:\n",
    "            len_category += 1\n",
    "            # Removing comma and plus characters from no. of installs value\n",
    "            installs = float(row[5].replace('+', '').replace(',', \"\"))\n",
    "            total += float(installs)\n",
    "    avg_installs = total / len_category\n",
    "    # Printing app category and avg no. of installs for apps in that category\n",
    "    print(category, \": \", avg_installs)  "
   ]
  },
  {
   "cell_type": "markdown",
   "metadata": {},
   "source": [
    "It seems 'COMMUNICATION' category apps are most popular.\n",
    "Looking closely at no. of installs for these apps:\n",
    "\n"
   ]
  },
  {
   "cell_type": "code",
   "execution_count": 41,
   "metadata": {},
   "outputs": [
    {
     "name": "stdout",
     "output_type": "stream",
     "text": [
      "WhatsApp Messenger :  1,000,000,000+\n",
      "Messenger for SMS :  10,000,000+\n",
      "My Tele2 :  5,000,000+\n",
      "imo beta free calls and text :  100,000,000+\n",
      "Contacts :  50,000,000+\n",
      "Call Free – Free Call :  5,000,000+\n",
      "Web Browser & Explorer :  5,000,000+\n",
      "Browser 4G :  10,000,000+\n",
      "MegaFon Dashboard :  10,000,000+\n",
      "ZenUI Dialer & Contacts :  10,000,000+\n",
      "Cricket Visual Voicemail :  10,000,000+\n",
      "TracFone My Account :  1,000,000+\n",
      "Xperia Link™ :  10,000,000+\n",
      "TouchPal Keyboard - Fun Emoji & Android Keyboard :  10,000,000+\n",
      "Skype Lite - Free Video Call & Chat :  5,000,000+\n",
      "My magenta :  1,000,000+\n",
      "Android Messages :  100,000,000+\n",
      "Google Duo - High Quality Video Calls :  500,000,000+\n",
      "Seznam.cz :  1,000,000+\n",
      "Antillean Gold Telegram (original version) :  100,000+\n",
      "AT&T Visual Voicemail :  10,000,000+\n",
      "GMX Mail :  10,000,000+\n",
      "Omlet Chat :  10,000,000+\n",
      "My Vodacom SA :  5,000,000+\n",
      "Microsoft Edge :  5,000,000+\n",
      "Messenger – Text and Video Chat for Free :  1,000,000,000+\n",
      "imo free video calls and chat :  500,000,000+\n",
      "Calls & Text by Mo+ :  5,000,000+\n",
      "free video calls and chat :  50,000,000+\n",
      "Skype - free IM & video calls :  1,000,000,000+\n",
      "Who :  100,000,000+\n",
      "GO SMS Pro - Messenger, Free Themes, Emoji :  100,000,000+\n",
      "Messaging+ SMS, MMS Free :  1,000,000+\n",
      "chomp SMS :  10,000,000+\n",
      "Glide - Video Chat Messenger :  10,000,000+\n",
      "Text SMS :  10,000,000+\n",
      "Talkray - Free Calls & Texts :  10,000,000+\n",
      "LINE: Free Calls & Messages :  500,000,000+\n",
      "GroupMe :  10,000,000+\n",
      "mysms SMS Text Messaging Sync :  1,000,000+\n",
      "2ndLine - Second Phone Number :  1,000,000+\n",
      "Google Chrome: Fast & Secure :  1,000,000,000+\n",
      "Firefox Browser fast & private :  100,000,000+\n",
      "Ninesky Browser :  1,000,000+\n",
      "Dolphin Browser - Fast, Private & Adblock🐬 :  50,000,000+\n",
      "UC Browser - Fast Download Private & Secure :  500,000,000+\n",
      "Ghostery Privacy Browser :  1,000,000+\n",
      "InBrowser - Incognito Browsing :  1,000,000+\n",
      "Lightning Web Browser :  500,000+\n",
      "Web Browser :  500,000+\n",
      "Contacts+ :  10,000,000+\n",
      "ExDialer - Dialer & Contacts :  10,000,000+\n",
      "PHONE for Google Voice & GTalk :  1,000,000+\n",
      "Safest Call Blocker :  1,000,000+\n",
      "Full Screen Caller ID :  5,000,000+\n",
      "Hiya - Caller ID & Block :  10,000,000+\n",
      "Mr. Number-Block calls & spam :  10,000,000+\n",
      "Should I Answer? :  1,000,000+\n",
      "RocketDial Dialer & Contacts :  1,000,000+\n",
      "CIA - Caller ID & Call Blocker :  5,000,000+\n",
      "Calls Blacklist - Call Blocker :  10,000,000+\n",
      "Call Control - Call Blocker :  5,000,000+\n",
      "True Contact - Real Caller ID :  1,000,000+\n",
      "Video Caller Id :  1,000,000+\n",
      "Sync.ME – Caller ID & Block :  5,000,000+\n",
      "Burner - Free Phone Number :  1,000,000+\n",
      "Caller ID + :  1,000,000+\n",
      "Gmail :  1,000,000,000+\n",
      "K-9 Mail :  5,000,000+\n",
      "myMail – Email for Hotmail, Gmail and Outlook Mail :  10,000,000+\n",
      "Email TypeApp - Mail App :  1,000,000+\n",
      "All Email Providers :  1,000,000+\n",
      "Newton Mail - Email App for Gmail, Outlook, IMAP :  1,000,000+\n",
      "GO Notifier :  10,000,000+\n",
      "Mail.Ru - Email App :  50,000,000+\n",
      "Mail1Click - Secure Mail :  10,000+\n",
      "Daum Mail - Next Mail :  5,000,000+\n",
      "mail.com mail :  1,000,000+\n",
      "SolMail - All-in-One email app :  500,000+\n",
      "Hangouts :  1,000,000,000+\n",
      "Vonage Mobile® Call Video Text :  1,000,000+\n",
      "JusTalk - Free Video Calls and Fun Video Chat :  5,000,000+\n",
      "Azar :  50,000,000+\n",
      "LokLok: Draw on a Lock Screen :  500,000+\n",
      "Discord - Chat for Gamers :  10,000,000+\n",
      "Messenger Lite: Free Calls & Messages :  100,000,000+\n",
      "AntennaPict β :  1,000,000+\n",
      "Talkatone: Free Texts, Calls & Phone Number :  10,000,000+\n",
      "Kik :  100,000,000+\n",
      "K-@ Mail - Email App :  100,000+\n",
      "KakaoTalk: Free Calls & Text :  100,000,000+\n",
      "K-9 Material (unofficial) :  5,000+\n",
      "M star Dialer :  100,000+\n",
      "Free WiFi Connect :  10,000,000+\n",
      "m:go BiH :  10,000+\n",
      "N-Com Wizard :  50,000+\n",
      "Opera Mini - fast web browser :  100,000,000+\n",
      "Opera Browser: Fast and Secure :  100,000,000+\n",
      "Opera Mini browser beta :  10,000,000+\n",
      "Psiphon Pro - The Internet Freedom VPN :  10,000,000+\n",
      "ICQ — Video Calls & Chat Messenger :  10,000,000+\n",
      "Telegram :  100,000,000+\n",
      "AT&T Messages for Tablet :  1,000,000+\n",
      "T-Mobile DIGITS :  100,000+\n",
      "Truecaller: Caller ID, SMS spam blocking & Dialer :  100,000,000+\n",
      "Portable Wi-Fi hotspot :  10,000,000+\n",
      "AT&T Call Protect :  5,000,000+\n",
      "U - Webinars, Meetings & Messenger :  500,000+\n",
      "UC Browser Mini -Tiny Fast Private & Secure :  100,000,000+\n",
      "/u/app :  10,000+\n",
      "[verify-U] VideoIdent :  10,000+\n",
      "Viber Messenger :  500,000,000+\n",
      "WeChat :  100,000,000+\n",
      "WhatsApp Business :  10,000,000+\n",
      "WhatsCall Free Global Phone Call App & Cheap Calls :  10,000,000+\n",
      "X Browser :  50,000+\n",
      "Yahoo Mail – Stay Organized :  100,000,000+\n",
      "Free Adblocker Browser - Adblock & Popup Blocker :  10,000,000+\n",
      "Adblock Browser for Android :  10,000,000+\n",
      "CM Browser - Ad Blocker , Fast Download , Privacy :  50,000,000+\n",
      "Adblock Plus for Samsung Internet - Browse safe. :  1,000,000+\n",
      "Ad Blocker Turbo - Adblocker Browser :  10,000+\n",
      "Brave Browser: Fast AdBlocker :  5,000,000+\n",
      "AG Contacts, Lite edition :  5,000+\n",
      "Oklahoma Ag Co-op Council :  10+\n",
      "Bee'ah Employee App :  100+\n",
      "tournaments and more.aj.2 :  100+\n",
      "Aj.Petra :  100+\n",
      "AK Phone :  5,000+\n",
      "PlacarTv Futebol Ao Vivo :  100,000+\n",
      "WiFi Access Point (hotspot) :  100,000+\n",
      "Access Point Names :  10,000+\n",
      "Puffin Web Browser :  10,000,000+\n",
      "ClanHQ :  10,000+\n",
      "Ear Agent: Super Hearing :  5,000,000+\n",
      "Google Voice :  10,000,000+\n",
      "Google Allo :  10,000,000+\n",
      "AU Call Blocker - Block Unwanted Calls Texts 2018 :  1,000+\n",
      "Baby Monitor AV :  100,000+\n",
      "AV Phone :  1,000+\n",
      "AW - free video calls and chat :  1,000,000+\n",
      "Katalogen.ax :  100+\n",
      "AZ Browser. Private & Download :  100,000+\n",
      "BA SALES :  1+\n",
      "BD Data Plan (3G & 4G) :  500,000+\n",
      "BD Internet Packages (Updated) :  50,000+\n",
      "BD Dialer :  10,000+\n",
      "BD Live Call :  5,000+\n",
      "Best Browser BD social networking :  10+\n",
      "Traffic signs BD :  500+\n",
      "BF Browser by Betfilter - Stop Gambling Today! :  10,000+\n",
      "My BF App :  50,000+\n",
      "BH Mail :  1,000+\n",
      "Zalo – Video Call :  50,000,000+\n",
      "BJ - Confidential :  10+\n",
      "BK Chat :  1,000+\n",
      "Of the wall Arapaho bk :  5+\n",
      "AC-BL :  50+\n",
      "BBM - Free Calls & Messages :  100,000,000+\n",
      "DMR BrandMeister Tool :  10,000+\n",
      "BBMoji - Your personalized BBM Stickers :  1,000,000+\n",
      "BN MALLORCA Radio :  1,000+\n",
      "BQ Partners :  1,000+\n",
      "BS-Mobile :  50+\n",
      "ATC Unico BS :  500+\n",
      "BT One Voice mobile access :  5,000+\n",
      "BT Messenger :  50,000+\n",
      "BT One Phone Mobile App :  10,000+\n",
      "SW-100.tch by Callstel :  1,000,000+\n",
      "BT MeetMe with Dolby Voice :  100,000+\n",
      "Bluetooth Auto Connect :  5,000,000+\n",
      "AudioBT: BT audio GPS/SMS/Text :  50,000+\n",
      "BV :  100+\n",
      "Feel Performer :  10,000+\n",
      "Tiny Call Confirm :  1,000,000+\n",
      "CB Radio Chat - for friends! :  1,000,000+\n",
      "CB On Mobile :  100,000+\n",
      "Virtual Walkie Talkie :  1,000,000+\n",
      "Channel 19 :  100,000+\n",
      "Cb browser :  50+\n",
      "CF Chat: Connecting Friends :  100+\n",
      "retteMi.ch :  5,000+\n",
      "Chrome Dev :  5,000,000+\n",
      "CJ Browser - Fast & Private :  100+\n",
      "CJ DVD Rentals :  100+\n",
      "CK Call NEW :  10+\n",
      "CM Transfer - Share any files with friends nearby :  5,000,000+\n",
      "mail.co.uk Mail :  5,000+\n",
      "ClanPlay: Community and Tools for Gamers :  1,000,000+\n",
      "CQ-Mobile :  1,000+\n",
      "CQ-Alert :  500+\n",
      "QRZ Assistant :  100,000+\n",
      "Pocket Prefix Plus :  10,000+\n",
      "Ham Radio Prefixes :  10,000+\n",
      "CS Customizer :  1,000+\n",
      "CS Browser | #1 & BEST BROWSER :  1,000+\n",
      "CS Browser Beta :  5,000+\n",
      "My Vodafone (GR) :  1,000,000+\n",
      "IZ2UUF Morse Koch CW :  50,000+\n",
      "C W Browser :  100+\n",
      "CW Bluetooth SPP :  100+\n",
      "CW BLE Peripheral Simulator :  500+\n",
      "Morse Code Reader :  100,000+\n",
      "Learn Morse Code - G0HYN Learn Morse :  5,000+\n",
      "Ring :  10,000+\n",
      "Hyundai CX Conference :  50+\n",
      "Cy Messenger :  100+\n",
      "Amadeus GR & CY :  100+\n",
      "Hlášenírozhlasu.cz :  10+\n",
      "SMS Sender - sluzba.cz :  1,000+\n",
      "WEB.DE Mail :  10,000,000+\n",
      "Your Freedom VPN Client :  5,000,000+\n",
      "CallApp: Caller ID, Blocker & Phone Call Recorder :  10,000,000+\n",
      "Rádio Sol Nascente DF :  500+\n",
      "DG Card :  100+\n",
      "Whoscall - Caller ID & Block :  10,000,000+\n",
      "DK Browser :  10+\n",
      "cluster.dk :  1,000+\n",
      "DK TEL Dialer :  50+\n",
      "DM for WhatsApp :  5,000+\n",
      "DM Talk New :  5,000+\n",
      "DM - The Offical Messaging App :  10+\n",
      "DM Tracker :  1,000+\n",
      "Call Blocker & Blacklist :  1,000+\n",
      "ReadyOp DT :  1,000+\n",
      "DU Browser—Browse fast & fun :  10,000,000+\n",
      "Caller ID & Call Block - DU Caller :  5,000,000+\n",
      "BlueDV AMBE :  1,000+\n",
      "DW Contacts & Phone & Dialer :  1,000,000+\n",
      "Deaf World DW :  10,000+\n",
      "Ham DX Cluster & Spots Finder :  5,000+\n",
      "Mircules DX Cluster Lite :  5,000+\n",
      "3G DZ Configuration :  50,000+\n",
      "chat dz :  100+\n",
      "love sms good morning :  5,000+\n"
     ]
    },
    {
     "name": "stdout",
     "output_type": "stream",
     "text": [
      "Goodbox - Mega App :  100,000+\n",
      "Call Blocker - Blacklist, SMS Blocker :  1,000,000+\n",
      "[EF]ShoutBox :  100+\n",
      "Eg Call :  10,000+\n",
      "ei :  10+\n",
      "EJ messenger :  10+\n",
      "Ek IRA :  10+\n",
      "Orfox: Tor Browser for Android :  10,000,000+\n",
      "EO Mumbai :  10+\n",
      "EP RSS Reader :  100+\n",
      "Voxer Walkie Talkie Messenger :  10,000,000+\n",
      "ES-1 :  500+\n",
      "Hangouts Dialer - Call Phones :  10,000,000+\n",
      "EU Council :  1,000+\n",
      "Council Voting Calculator :  5,000+\n",
      "Have your say on Europe :  500+\n",
      "Programi podrške EU :  100+\n",
      "Inbox.eu :  10,000+\n",
      "Web Browser for Android :  1,000,000+\n",
      "Everbridge :  100,000+\n",
      "Best Auto Call Recorder Free :  500+\n",
      "EZ Wifi Notification :  10,000+\n",
      "Test Server SMS FA :  5+\n",
      "Lite for Facebook Messenger :  1,000,000+\n",
      "FC Browser - Focus Privacy Browser :  1,000+\n",
      "EHiN-FH conferenceapp :  100+\n",
      "Carpooling FH Hagenberg :  100+\n",
      "Wi-Fi Auto-connect :  1,000,000+\n",
      "Talkie - Wi-Fi Calling, Chats, File Sharing :  500,000+\n",
      "WeFi - Free Fast WiFi Connect & Find Wi-Fi Map :  1,000,000+\n",
      "Sat-Fi :  5,000+\n",
      "Portable Wi-Fi hotspot Free :  100,000+\n",
      "TownWiFi | Wi-Fi Everywhere :  500,000+\n",
      "Jazz Wi-Fi :  10,000+\n",
      "Sat-Fi Voice :  1,000+\n",
      "Free Wi-fi HotspoT :  50,000+\n",
      "FN Web Radio :  10+\n",
      "FNH Payment Info :  10+\n",
      "MARKET FO :  100+\n",
      "FO OP St-Nazaire :  100+\n",
      "FO SODEXO :  100+\n",
      "FO RCBT :  100+\n",
      "FO Interim :  100+\n",
      "FO PSA Sept-Fons :  100+\n",
      "FO AIRBUS TLSE :  1,000+\n",
      "FO STELIA Méaulte :  100+\n",
      "FO AIRBUS Nantes :  100+\n",
      "Firefox Focus: The privacy browser :  1,000,000+\n",
      "FP Connect :  100+\n",
      "FreedomPop Messaging Phone/SIM :  500,000+\n",
      "FP Live :  10+\n",
      "HipChat - beta version :  50,000+\n"
     ]
    }
   ],
   "source": [
    "for row in android_final:\n",
    "    if row[1] == \"COMMUNICATION\":\n",
    "        print(row[0], \": \", row[5])"
   ]
  },
  {
   "cell_type": "markdown",
   "metadata": {},
   "source": [
    "Again, we observe that average no. of installs for apps of \"COMMUNICATION\" category is skewed by apps like WhatsApp, Facebook Messenger, Skype, Google Chrome, Gmail, and Hangouts."
   ]
  },
  {
   "cell_type": "markdown",
   "metadata": {},
   "source": [
    "The books and reference genre looks fairly popular as well, with an average number of installs of 8,767,811. It's interesting to explore this in more depth, since we found this genre has some potential to work well on the App Store, and our aim is to recommend an app genre that shows potential for being profitable on both the App Store and Google Play.\n",
    "\n",
    "Let's take a look at some of the apps from this genre and their number of installs:"
   ]
  },
  {
   "cell_type": "code",
   "execution_count": 42,
   "metadata": {},
   "outputs": [
    {
     "name": "stdout",
     "output_type": "stream",
     "text": [
      "E-Book Read - Read Book for free :  50,000+\n",
      "Download free book with green book :  100,000+\n",
      "Wikipedia :  10,000,000+\n",
      "Cool Reader :  10,000,000+\n",
      "Free Panda Radio Music :  100,000+\n",
      "Book store :  1,000,000+\n",
      "FBReader: Favorite Book Reader :  10,000,000+\n",
      "English Grammar Complete Handbook :  500,000+\n",
      "Free Books - Spirit Fanfiction and Stories :  1,000,000+\n",
      "Google Play Books :  1,000,000,000+\n",
      "AlReader -any text book reader :  5,000,000+\n",
      "Offline English Dictionary :  100,000+\n",
      "Offline: English to Tagalog Dictionary :  500,000+\n",
      "FamilySearch Tree :  1,000,000+\n",
      "Cloud of Books :  1,000,000+\n",
      "Recipes of Prophetic Medicine for free :  500,000+\n",
      "ReadEra – free ebook reader :  1,000,000+\n",
      "Anonymous caller detection :  10,000+\n",
      "Ebook Reader :  5,000,000+\n",
      "Litnet - E-books :  100,000+\n",
      "Read books online :  5,000,000+\n",
      "English to Urdu Dictionary :  500,000+\n",
      "eBoox: book reader fb2 epub zip :  1,000,000+\n",
      "English Persian Dictionary :  500,000+\n",
      "Flybook :  500,000+\n",
      "All Maths Formulas :  1,000,000+\n",
      "Ancestry :  5,000,000+\n",
      "HTC Help :  10,000,000+\n",
      "English translation from Bengali :  100,000+\n",
      "Pdf Book Download - Read Pdf Book :  100,000+\n",
      "Free Book Reader :  100,000+\n",
      "eBoox new: Reader for fb2 epub zip books :  50,000+\n",
      "Only 30 days in English, the guideline is guaranteed :  500,000+\n",
      "Moon+ Reader :  10,000,000+\n",
      "SH-02J Owner's Manual (Android 8.0) :  50,000+\n",
      "English-Myanmar Dictionary :  1,000,000+\n",
      "Golden Dictionary (EN-AR) :  1,000,000+\n",
      "All Language Translator Free :  1,000,000+\n",
      "Azpen eReader :  500,000+\n",
      "URBANO V 02 instruction manual :  100,000+\n",
      "Bible :  100,000,000+\n",
      "C Programs and Reference :  50,000+\n",
      "C Offline Tutorial :  1,000+\n",
      "C Programs Handbook :  50,000+\n",
      "Amazon Kindle :  100,000,000+\n",
      "Aab e Hayat Full Novel :  100,000+\n",
      "Aldiko Book Reader :  10,000,000+\n",
      "Google I/O 2018 :  500,000+\n",
      "R Language Reference Guide :  10,000+\n",
      "Learn R Programming Full :  5,000+\n",
      "R Programing Offline Tutorial :  1,000+\n",
      "Guide for R Programming :  5+\n",
      "Learn R Programming :  10+\n",
      "R Quick Reference Big Data :  1,000+\n",
      "V Made :  100,000+\n",
      "Wattpad 📖 Free Books :  100,000,000+\n",
      "Dictionary - WordWeb :  5,000,000+\n",
      "Guide (for X-MEN) :  100,000+\n",
      "AC Air condition Troubleshoot,Repair,Maintenance :  5,000+\n",
      "AE Bulletins :  1,000+\n",
      "Ae Allah na Dai (Rasa) :  10,000+\n",
      "50000 Free eBooks & Free AudioBooks :  5,000,000+\n",
      "Ag PhD Field Guide :  10,000+\n",
      "Ag PhD Deficiencies :  10,000+\n",
      "Ag PhD Planting Population Calculator :  1,000+\n",
      "Ag PhD Soybean Diseases :  1,000+\n",
      "Fertilizer Removal By Crop :  50,000+\n",
      "A-J Media Vault :  50+\n",
      "Al-Quran (Free) :  10,000,000+\n",
      "Al Quran (Tafsir & by Word) :  500,000+\n",
      "Al Quran Indonesia :  10,000,000+\n",
      "Al'Quran Bahasa Indonesia :  10,000,000+\n",
      "Al Quran Al karim :  1,000,000+\n",
      "Al-Muhaffiz :  50,000+\n",
      "Al Quran : EAlim - Translations & MP3 Offline :  5,000,000+\n",
      "Al-Quran 30 Juz free copies :  500,000+\n",
      "Koran Read &MP3 30 Juz Offline :  1,000,000+\n",
      "Hafizi Quran 15 lines per page :  1,000,000+\n",
      "Quran for Android :  10,000,000+\n",
      "Surah Al-Waqiah :  100,000+\n",
      "Hisnul Al Muslim - Hisn Invocations & Adhkaar :  100,000+\n",
      "Satellite AR :  1,000,000+\n",
      "Audiobooks from Audible :  100,000,000+\n",
      "Kinot & Eichah for Tisha B'Av :  10,000+\n",
      "AW Tozer Devotionals - Daily :  5,000+\n",
      "Tozer Devotional -Series 1 :  1,000+\n",
      "The Pursuit of God :  1,000+\n",
      "AY Sing :  5,000+\n",
      "Ay Hasnain k Nana Milad Naat :  10,000+\n",
      "Ay Mohabbat Teri Khatir Novel :  10,000+\n",
      "Arizona Statutes, ARS (AZ Law) :  1,000+\n",
      "Oxford A-Z of English Usage :  1,000,000+\n",
      "BD Fishpedia :  1,000+\n",
      "BD All Sim Offer :  10,000+\n",
      "Youboox - Livres, BD et magazines :  500,000+\n",
      "B&H Kids AR :  10,000+\n",
      "B y H Niños ES :  5,000+\n",
      "Dictionary.com: Find Definitions for English Words :  10,000,000+\n",
      "English Dictionary - Offline :  10,000,000+\n",
      "Bible KJV :  5,000,000+\n",
      "Borneo Bible, BM Bible :  10,000+\n",
      "MOD Black for BM :  100+\n",
      "BM Box :  1,000+\n",
      "Anime Mod for BM :  100+\n",
      "NOOK: Read eBooks & Magazines :  10,000,000+\n",
      "NOOK Audiobooks :  500,000+\n",
      "NOOK App for NOOK Devices :  500,000+\n",
      "Browsery by Barnes & Noble :  5,000+\n",
      "bp e-store :  1,000+\n",
      "Brilliant Quotes: Life, Love, Family & Motivation :  1,000,000+\n",
      "BR Ambedkar Biography & Quotes :  10,000+\n",
      "BU Alsace :  100+\n",
      "Catholic La Bu Zo Kam :  500+\n",
      "Khrifa Hla Bu (Solfa) :  10+\n",
      "Kristian Hla Bu :  10,000+\n",
      "SA HLA BU :  1,000+\n",
      "Learn SAP BW :  500+\n",
      "Learn SAP BW on HANA :  500+\n",
      "CA Laws 2018 (California Laws and Codes) :  5,000+\n",
      "Bootable Methods(USB-CD-DVD) :  10,000+\n",
      "cloudLibrary :  100,000+\n",
      "SDA Collegiate Quarterly :  500+\n",
      "Sabbath School :  100,000+\n",
      "Cypress College Library :  100+\n",
      "Stats Royale for Clash Royale :  1,000,000+\n",
      "GATE 21 years CS Papers(2011-2018 Solved) :  50+\n",
      "Learn CT Scan Of Head :  5,000+\n",
      "Easy Cv maker 2018 :  10,000+\n",
      "How to Write CV :  100,000+\n",
      "CW Nuclear :  1,000+\n",
      "CY Spray nozzle :  10+\n",
      "BibleRead En Cy Zh Yue :  5+\n",
      "CZ-Help :  5+\n",
      "Modlitební knížka CZ :  500+\n",
      "Guide for DB Xenoverse :  10,000+\n",
      "Guide for DB Xenoverse 2 :  10,000+\n",
      "Guide for IMS DB :  10+\n",
      "DC HSEMA :  5,000+\n",
      "DC Public Library :  1,000+\n",
      "Painting Lulu DC Super Friends :  1,000+\n",
      "Dictionary :  10,000,000+\n",
      "Fix Error Google Playstore :  1,000+\n",
      "D. H. Lawrence Poems FREE :  1,000+\n",
      "Bilingual Dictionary Audio App :  5,000+\n",
      "DM Screen :  10,000+\n",
      "wikiHow: how to do anything :  1,000,000+\n",
      "Dr. Doug's Tips :  1,000+\n",
      "Bible du Semeur-BDS (French) :  50,000+\n",
      "La citadelle du musulman :  50,000+\n",
      "DV 2019 Entry Guide :  10,000+\n",
      "DV 2019 - EDV Photo & Form :  50,000+\n",
      "DV 2018 Winners Guide :  1,000+\n",
      "EB Annual Meetings :  1,000+\n",
      "EC - AP & Telangana :  5,000+\n",
      "TN Patta Citta & EC :  10,000+\n",
      "AP Stamps and Registration :  10,000+\n",
      "CompactiMa EC pH Calibration :  100+\n",
      "EGW Writings 2 :  100,000+\n",
      "EGW Writings :  1,000,000+\n",
      "Bible with EGW Comments :  100,000+\n",
      "My Little Pony AR Guide :  1,000,000+\n",
      "SDA Sabbath School Quarterly :  500,000+\n",
      "Duaa Ek Ibaadat :  5,000+\n",
      "Spanish English Translator :  10,000,000+\n",
      "Dictionary - Merriam-Webster :  10,000,000+\n",
      "JW Library :  10,000,000+\n",
      "Oxford Dictionary of English : Free :  10,000,000+\n",
      "English Hindi Dictionary :  10,000,000+\n",
      "English to Hindi Dictionary :  5,000,000+\n",
      "EP Research Service :  1,000+\n",
      "Hymnes et Louanges :  100,000+\n",
      "EU Charter :  1,000+\n",
      "EU Data Protection :  1,000+\n",
      "EU IP Codes :  100+\n",
      "EW PDF :  5+\n",
      "BakaReader EX :  100,000+\n",
      "EZ Quran :  50,000+\n",
      "FA Part 1 & 2 Past Papers Solved Free – Offline :  5,000+\n",
      "La Fe de Jesus :  1,000+\n",
      "La Fe de Jesús :  500+\n",
      "Le Fe de Jesus :  500+\n",
      "Florida - Pocket Brainbook :  1,000+\n",
      "Florida Statutes (FL Code) :  1,000+\n",
      "English To Shona Dictionary :  10,000+\n",
      "Greek Bible FP (Audio) :  1,000+\n",
      "Golden Dictionary (FR-AR) :  500,000+\n",
      "Fanfic-FR :  5,000+\n",
      "Bulgarian French Dictionary Fr :  10,000+\n",
      "Chemin (fr) :  1,000+\n",
      "The SCP Foundation DB fr nn5n :  1,000+\n"
     ]
    }
   ],
   "source": [
    "for row in android_final:\n",
    "    if row[1] == \"BOOKS_AND_REFERENCE\":\n",
    "        print(row[0], \": \", row[5])"
   ]
  },
  {
   "cell_type": "markdown",
   "metadata": {},
   "source": [
    "Still, there are apps that seem to skew average no. of installs:"
   ]
  },
  {
   "cell_type": "code",
   "execution_count": 43,
   "metadata": {},
   "outputs": [
    {
     "name": "stdout",
     "output_type": "stream",
     "text": [
      "Google Play Books :  1,000,000,000+\n",
      "Bible :  100,000,000+\n",
      "Amazon Kindle :  100,000,000+\n",
      "Wattpad 📖 Free Books :  100,000,000+\n",
      "Audiobooks from Audible :  100,000,000+\n"
     ]
    }
   ],
   "source": [
    "for row in android_final:\n",
    "    if row[1] == \"BOOKS_AND_REFERENCE\" and (row[5] == '1,000,000,000+'\n",
    "                                            or row[5] == '500,000,000+'\n",
    "                                            or row[5] == '100,000,000+'):\n",
    "        print(row[0], \": \", row[5])"
   ]
  },
  {
   "cell_type": "markdown",
   "metadata": {},
   "source": [
    "As these are very few, developing apps in this category can be a good deccision.\n",
    "\n",
    "This niche seems to be dominated by reading ebooks, as well as various collections of libraries and dictionaries, so it's probably not a good idea to build similar apps since there'll be some significant competition."
   ]
  }
 ],
 "metadata": {
  "kernelspec": {
   "display_name": "Python 3",
   "language": "python",
   "name": "python3"
  },
  "language_info": {
   "codemirror_mode": {
    "name": "ipython",
    "version": 3
   },
   "file_extension": ".py",
   "mimetype": "text/x-python",
   "name": "python",
   "nbconvert_exporter": "python",
   "pygments_lexer": "ipython3",
   "version": "3.7.6"
  }
 },
 "nbformat": 4,
 "nbformat_minor": 2
}
